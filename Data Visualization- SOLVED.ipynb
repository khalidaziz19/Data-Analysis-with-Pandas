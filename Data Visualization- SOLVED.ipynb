{
 "cells": [
  {
   "cell_type": "markdown",
   "metadata": {},
   "source": [
    "# Data Visualization\n",
    "\n",
    "\n",
    "Sometimes tabular data contains too much information for viewers to absorb. Hence representing such data using the right visuals can produce more meaningful insights and highlight important information and relations accordingly."
   ]
  },
  {
   "cell_type": "markdown",
   "metadata": {},
   "source": [
    "Following are the columns in the dataset:\n",
    "- ID - Unique number for each athlete\n",
    "- Name - Athlete's name\n",
    "- Sex - M or F\n",
    "- Age - Integer\n",
    "- Height - In centimeters\n",
    "- Weight - In kilograms\n",
    "- Team - Team name\n",
    "- NOC - National Olympic Committee 3-letter code\n",
    "- Games - Year and season\n",
    "- Year - Integer\n",
    "- Season - Summer or Winter\n",
    "- City - Host city\n",
    "- Sport - Sport\n",
    "- Event - Event\n",
    "- Medal - Gold, Silver, Bronze, or NA"
   ]
  },
  {
   "cell_type": "markdown",
   "metadata": {},
   "source": [
    "We will be using `matplotlib` and `seaborn` as our two visualization libraries for python.\n",
    "\n",
    "**External Readings**\n",
    "1. Why data visualization is important: https://hdsr.mitpress.mit.edu/pub/zok97i7p/release/3\n",
    "2. Visualizing with matplotlib: https://www.nobledesktop.com/learn/python/data-visualization-matplotlib\n",
    "3. Choosing the right chart type: https://infogram.com/page/choose-the-right-chart-data-visualization\n",
    "4. Choosing the right visualization: https://guides.lib.berkeley.edu/data-visualization/type\n",
    "5. Univariate visualizations: http://www.sfu.ca/~lockhart/richard/101/12_1/lectures/univariate/web.pdf"
   ]
  },
  {
   "cell_type": "code",
   "execution_count": 85,
   "metadata": {
    "scrolled": true
   },
   "outputs": [
    {
     "name": "stdout",
     "output_type": "stream",
     "text": [
      "Requirement already satisfied: matplotlib in c:\\users\\saarah.rasheed\\anaconda3\\lib\\site-packages (3.2.2)\n",
      "Requirement already satisfied: python-dateutil>=2.1 in c:\\users\\saarah.rasheed\\anaconda3\\lib\\site-packages (from matplotlib) (2.8.1)\n",
      "Requirement already satisfied: pyparsing!=2.0.4,!=2.1.2,!=2.1.6,>=2.0.1 in c:\\users\\saarah.rasheed\\anaconda3\\lib\\site-packages (from matplotlib) (2.4.7)\n",
      "Requirement already satisfied: kiwisolver>=1.0.1 in c:\\users\\saarah.rasheed\\anaconda3\\lib\\site-packages (from matplotlib) (1.2.0)\n",
      "Requirement already satisfied: numpy>=1.11 in c:\\users\\saarah.rasheed\\anaconda3\\lib\\site-packages (from matplotlib) (1.18.5)\n",
      "Requirement already satisfied: cycler>=0.10 in c:\\users\\saarah.rasheed\\anaconda3\\lib\\site-packages (from matplotlib) (0.10.0)\n",
      "Requirement already satisfied: six>=1.5 in c:\\users\\saarah.rasheed\\anaconda3\\lib\\site-packages (from python-dateutil>=2.1->matplotlib) (1.15.0)\n",
      "Requirement already satisfied: seaborn in c:\\users\\saarah.rasheed\\anaconda3\\lib\\site-packages (0.10.1)\n",
      "Requirement already satisfied: pandas>=0.22.0 in c:\\users\\saarah.rasheed\\anaconda3\\lib\\site-packages (from seaborn) (1.0.5)\n",
      "Requirement already satisfied: scipy>=1.0.1 in c:\\users\\saarah.rasheed\\anaconda3\\lib\\site-packages (from seaborn) (1.5.0)\n",
      "Requirement already satisfied: matplotlib>=2.1.2 in c:\\users\\saarah.rasheed\\anaconda3\\lib\\site-packages (from seaborn) (3.2.2)\n",
      "Requirement already satisfied: numpy>=1.13.3 in c:\\users\\saarah.rasheed\\anaconda3\\lib\\site-packages (from seaborn) (1.18.5)\n",
      "Requirement already satisfied: pytz>=2017.2 in c:\\users\\saarah.rasheed\\anaconda3\\lib\\site-packages (from pandas>=0.22.0->seaborn) (2020.1)\n",
      "Requirement already satisfied: python-dateutil>=2.6.1 in c:\\users\\saarah.rasheed\\anaconda3\\lib\\site-packages (from pandas>=0.22.0->seaborn) (2.8.1)\n",
      "Requirement already satisfied: cycler>=0.10 in c:\\users\\saarah.rasheed\\anaconda3\\lib\\site-packages (from matplotlib>=2.1.2->seaborn) (0.10.0)\n",
      "Requirement already satisfied: kiwisolver>=1.0.1 in c:\\users\\saarah.rasheed\\anaconda3\\lib\\site-packages (from matplotlib>=2.1.2->seaborn) (1.2.0)\n",
      "Requirement already satisfied: pyparsing!=2.0.4,!=2.1.2,!=2.1.6,>=2.0.1 in c:\\users\\saarah.rasheed\\anaconda3\\lib\\site-packages (from matplotlib>=2.1.2->seaborn) (2.4.7)\n",
      "Requirement already satisfied: six>=1.5 in c:\\users\\saarah.rasheed\\anaconda3\\lib\\site-packages (from python-dateutil>=2.6.1->pandas>=0.22.0->seaborn) (1.15.0)\n"
     ]
    }
   ],
   "source": [
    "# Install matplotlib and seaborn\n",
    "# you only need to do this once. \n",
    "!pip install matplotlib\n",
    "!pip install seaborn"
   ]
  },
  {
   "cell_type": "markdown",
   "metadata": {},
   "source": [
    "Let's start with a database of Diamonds found on Kaggle and see what we can visualize from that. "
   ]
  },
  {
   "cell_type": "code",
   "execution_count": 2,
   "metadata": {},
   "outputs": [],
   "source": [
    "import pandas as pd \n",
    "import seaborn as sns\n",
    "import matplotlib.pyplot as plt"
   ]
  },
  {
   "cell_type": "code",
   "execution_count": 5,
   "metadata": {},
   "outputs": [],
   "source": [
    "# diamond's data import \n",
    "data = pd.read_csv(r'F:\\projects\\karachi-ai\\Introduction to Python\\notebooks\\c3\\diamonds.csv', index_col=0)"
   ]
  },
  {
   "cell_type": "code",
   "execution_count": 6,
   "metadata": {},
   "outputs": [
    {
     "data": {
      "text/html": [
       "<div>\n",
       "<style scoped>\n",
       "    .dataframe tbody tr th:only-of-type {\n",
       "        vertical-align: middle;\n",
       "    }\n",
       "\n",
       "    .dataframe tbody tr th {\n",
       "        vertical-align: top;\n",
       "    }\n",
       "\n",
       "    .dataframe thead th {\n",
       "        text-align: right;\n",
       "    }\n",
       "</style>\n",
       "<table border=\"1\" class=\"dataframe\">\n",
       "  <thead>\n",
       "    <tr style=\"text-align: right;\">\n",
       "      <th></th>\n",
       "      <th>carat</th>\n",
       "      <th>cut</th>\n",
       "      <th>color</th>\n",
       "      <th>clarity</th>\n",
       "      <th>depth</th>\n",
       "      <th>table</th>\n",
       "      <th>price</th>\n",
       "      <th>x</th>\n",
       "      <th>y</th>\n",
       "      <th>z</th>\n",
       "    </tr>\n",
       "  </thead>\n",
       "  <tbody>\n",
       "    <tr>\n",
       "      <th>1</th>\n",
       "      <td>0.23</td>\n",
       "      <td>Ideal</td>\n",
       "      <td>E</td>\n",
       "      <td>SI2</td>\n",
       "      <td>61.5</td>\n",
       "      <td>55.0</td>\n",
       "      <td>326</td>\n",
       "      <td>3.95</td>\n",
       "      <td>3.98</td>\n",
       "      <td>2.43</td>\n",
       "    </tr>\n",
       "    <tr>\n",
       "      <th>2</th>\n",
       "      <td>0.21</td>\n",
       "      <td>Premium</td>\n",
       "      <td>E</td>\n",
       "      <td>SI1</td>\n",
       "      <td>59.8</td>\n",
       "      <td>61.0</td>\n",
       "      <td>326</td>\n",
       "      <td>3.89</td>\n",
       "      <td>3.84</td>\n",
       "      <td>2.31</td>\n",
       "    </tr>\n",
       "    <tr>\n",
       "      <th>3</th>\n",
       "      <td>0.23</td>\n",
       "      <td>Good</td>\n",
       "      <td>E</td>\n",
       "      <td>VS1</td>\n",
       "      <td>56.9</td>\n",
       "      <td>65.0</td>\n",
       "      <td>327</td>\n",
       "      <td>4.05</td>\n",
       "      <td>4.07</td>\n",
       "      <td>2.31</td>\n",
       "    </tr>\n",
       "    <tr>\n",
       "      <th>4</th>\n",
       "      <td>0.29</td>\n",
       "      <td>Premium</td>\n",
       "      <td>I</td>\n",
       "      <td>VS2</td>\n",
       "      <td>62.4</td>\n",
       "      <td>58.0</td>\n",
       "      <td>334</td>\n",
       "      <td>4.20</td>\n",
       "      <td>4.23</td>\n",
       "      <td>2.63</td>\n",
       "    </tr>\n",
       "    <tr>\n",
       "      <th>5</th>\n",
       "      <td>0.31</td>\n",
       "      <td>Good</td>\n",
       "      <td>J</td>\n",
       "      <td>SI2</td>\n",
       "      <td>63.3</td>\n",
       "      <td>58.0</td>\n",
       "      <td>335</td>\n",
       "      <td>4.34</td>\n",
       "      <td>4.35</td>\n",
       "      <td>2.75</td>\n",
       "    </tr>\n",
       "  </tbody>\n",
       "</table>\n",
       "</div>"
      ],
      "text/plain": [
       "   carat      cut color clarity  depth  table  price     x     y     z\n",
       "1   0.23    Ideal     E     SI2   61.5   55.0    326  3.95  3.98  2.43\n",
       "2   0.21  Premium     E     SI1   59.8   61.0    326  3.89  3.84  2.31\n",
       "3   0.23     Good     E     VS1   56.9   65.0    327  4.05  4.07  2.31\n",
       "4   0.29  Premium     I     VS2   62.4   58.0    334  4.20  4.23  2.63\n",
       "5   0.31     Good     J     SI2   63.3   58.0    335  4.34  4.35  2.75"
      ]
     },
     "execution_count": 6,
     "metadata": {},
     "output_type": "execute_result"
    }
   ],
   "source": [
    "data.head()"
   ]
  },
  {
   "cell_type": "code",
   "execution_count": 89,
   "metadata": {},
   "outputs": [
    {
     "name": "stdout",
     "output_type": "stream",
     "text": [
      "(53940, 10)\n"
     ]
    }
   ],
   "source": [
    "print(data.shape)\n"
   ]
  },
  {
   "cell_type": "markdown",
   "metadata": {},
   "source": [
    "We have a total of 10 columns and 53940 rows. Let's use `info()` function on our data to learn more about its types."
   ]
  },
  {
   "cell_type": "code",
   "execution_count": 90,
   "metadata": {},
   "outputs": [
    {
     "name": "stdout",
     "output_type": "stream",
     "text": [
      "<class 'pandas.core.frame.DataFrame'>\n",
      "Int64Index: 53940 entries, 1 to 53940\n",
      "Data columns (total 10 columns):\n",
      " #   Column   Non-Null Count  Dtype  \n",
      "---  ------   --------------  -----  \n",
      " 0   carat    53940 non-null  float64\n",
      " 1   cut      53940 non-null  object \n",
      " 2   color    53940 non-null  object \n",
      " 3   clarity  53940 non-null  object \n",
      " 4   depth    53940 non-null  float64\n",
      " 5   table    53940 non-null  float64\n",
      " 6   price    53940 non-null  int64  \n",
      " 7   x        53940 non-null  float64\n",
      " 8   y        53940 non-null  float64\n",
      " 9   z        53940 non-null  float64\n",
      "dtypes: float64(6), int64(1), object(3)\n",
      "memory usage: 4.5+ MB\n"
     ]
    }
   ],
   "source": [
    "data.info()"
   ]
  },
  {
   "cell_type": "markdown",
   "metadata": {},
   "source": [
    "As we can see here, we do not have any null values in any of the columns. That's great. (most datasets on Kaggle may be pre-cleaned ready to dive into, though it won't always be the case with real-life datasets).\n",
    "\n",
    "Here are the column description as taken from Kaggle[https://www.kaggle.com/shivam2503/diamonds]:\n",
    "- **price:** price in US dollars (USD 326- USD 18,823)\n",
    "- **carat:** weight of the diamond (0.2--5.01)\n",
    "- **cut:** quality of the cut (Fair, Good, Very Good, Premium, Ideal)\n",
    "- **color:** diamond colour, from J (worst) to D (best)\n",
    "- **clarity:** a measurement of how clear the diamond is (I1 (worst), SI2, SI1, VS2, VS1, VVS2, VVS1, IF (best))\n",
    "- **x:** length in mm (0--10.74)\n",
    "- **y:** width in mm (0--58.9)\n",
    "- **z:** depth in mm (0--31.8)\n",
    "- **depth:** total depth percentage = z / mean(x, y) = 2 * z / (x + y) (43--79)\n",
    "- **table:** width of top of diamond relative to widest point (43--95)\n",
    "\n",
    "To get a visual understanding of how a diamond really differs in looks I would recommend checking out this link [https://www.gemsociety.org/article/diamond-clarity/] "
   ]
  },
  {
   "cell_type": "markdown",
   "metadata": {},
   "source": [
    "## Univariate and Multivariate Visualizations\n",
    "The above description gives a pretty good idea about our dataset (count of categorical variables, ranges of numerical variables, etc.). So we are ready to get started with visualizations. \n",
    "\n",
    "Now there are two kinds of visualizations we are interested in. **Univariate** and **Multivariate**. \n",
    "\n",
    "Univariate visuals are those concerned with a single variables. Examples of univariate include Boxplots, bar charts, pie charts and histogram. Whereas, multivariate include more than one variable(s) and concerned with seeing how one variable changes wrt to others. This includes line plots, 3D charts, scatter plots, etc. \n",
    "\n",
    "\n",
    "**Try it Yourself**\n",
    "\n",
    "Make an educated guess on which of these columns or \"features\" can we visualize using univariate and multivariate charts?"
   ]
  },
  {
   "cell_type": "markdown",
   "metadata": {},
   "source": [
    "### Univariate Visuals\n",
    "\n",
    "We will start with univariate visuals. We have 3 categorical variables that we can use here. Let's validate whether they actually have the range of values as described. For this we will use `unique()` function on these respective columns: `cut, color, clarity`.\n"
   ]
  },
  {
   "cell_type": "code",
   "execution_count": 91,
   "metadata": {},
   "outputs": [
    {
     "data": {
      "text/plain": [
       "array(['Ideal', 'Premium', 'Good', 'Very Good', 'Fair'], dtype=object)"
      ]
     },
     "execution_count": 91,
     "metadata": {},
     "output_type": "execute_result"
    }
   ],
   "source": [
    "data['cut'].unique()"
   ]
  },
  {
   "cell_type": "code",
   "execution_count": 92,
   "metadata": {},
   "outputs": [
    {
     "data": {
      "text/plain": [
       "array(['E', 'I', 'J', 'H', 'F', 'G', 'D'], dtype=object)"
      ]
     },
     "execution_count": 92,
     "metadata": {},
     "output_type": "execute_result"
    }
   ],
   "source": [
    "data['color'].unique()"
   ]
  },
  {
   "cell_type": "code",
   "execution_count": 93,
   "metadata": {},
   "outputs": [
    {
     "data": {
      "text/plain": [
       "array(['SI2', 'SI1', 'VS1', 'VS2', 'VVS2', 'VVS1', 'I1', 'IF'],\n",
       "      dtype=object)"
      ]
     },
     "execution_count": 93,
     "metadata": {},
     "output_type": "execute_result"
    }
   ],
   "source": [
    "data['clarity'].unique()"
   ]
  },
  {
   "cell_type": "markdown",
   "metadata": {},
   "source": [
    "Before we dive into plotting, we need to know what questions we are willing to answer using our dataset. Here are some:\n",
    "- What color diamonds are most common?\n",
    "- What type of clarity is most common in diamonds?\n",
    "- What is the distribution of carat?\n",
    "- How does price relate to carat?\n",
    "- How does price relate to depth?\n",
    "\n",
    "\n",
    "These are some questions however the list is exhaustive. Can you think of more questions to add here?\n",
    "\n",
    "So, let's start with answering the first question: most common diamond by colors? For that, we first need by color count for our diamond dataset."
   ]
  },
  {
   "cell_type": "code",
   "execution_count": 7,
   "metadata": {
    "scrolled": true
   },
   "outputs": [
    {
     "data": {
      "text/plain": [
       "G    11292\n",
       "E     9797\n",
       "F     9542\n",
       "H     8304\n",
       "D     6775\n",
       "I     5422\n",
       "J     2808\n",
       "Name: color, dtype: int64"
      ]
     },
     "execution_count": 7,
     "metadata": {},
     "output_type": "execute_result"
    }
   ],
   "source": [
    "# new function alert: value counts! Note: a little computationally expensive.\n",
    "color_counts = data['color'].value_counts()\n",
    "color_counts"
   ]
  },
  {
   "cell_type": "markdown",
   "metadata": {},
   "source": [
    "### Bar Charts \n",
    "\n",
    "Let's first try our hands on bar charts, this is good to assess the distribution of categorical variables. It is very simple and a bar chart requires two arguments primarily:\n",
    "- x: the values that go on the x axis, in our case, the labels of our categorical data.\n",
    "- height: the values that go on the y axis, in our case, the values of our categorical data.\n",
    "\n",
    "\n",
    "Note that we have labels and values of the same variable, not two different variables. Hence, it constitutes a univariate chart."
   ]
  },
  {
   "cell_type": "code",
   "execution_count": 9,
   "metadata": {},
   "outputs": [
    {
     "data": {
      "text/plain": [
       "array([11292,  9797,  9542,  8304,  6775,  5422,  2808], dtype=int64)"
      ]
     },
     "execution_count": 9,
     "metadata": {},
     "output_type": "execute_result"
    }
   ],
   "source": [
    "color_counts.values"
   ]
  },
  {
   "cell_type": "code",
   "execution_count": 29,
   "metadata": {
    "scrolled": false
   },
   "outputs": [
    {
     "data": {
      "text/plain": [
       "Text(0, 0.5, 'Count')"
      ]
     },
     "execution_count": 29,
     "metadata": {},
     "output_type": "execute_result"
    },
    {
     "data": {
      "image/png": "[encoded data removed]",
      "text/plain": [
       "<Figure size 864x576 with 1 Axes>"
      ]
     },
     "metadata": {
      "needs_background": "light"
     },
     "output_type": "display_data"
    }
   ],
   "source": [
    "# creating a bar chart \n",
    "# plt.rcParams['figure.figsize'] = [12, 5]\n",
    "import matplotlib.pyplot as plt\n",
    "\n",
    "# colors = ['green', 'grey', 'grey', 'grey', 'grey', 'grey', 'grey']\n",
    "\n",
    "fig = plt.bar(x=color_counts.index, height=color_counts.values, color=colors)\n",
    "# adding supplementary formatting \n",
    "plt.title('Color Counts of Diamonds')\n",
    "plt.xlabel('Colors')\n",
    "plt.ylabel('Count')"
   ]
  },
  {
   "cell_type": "markdown",
   "metadata": {},
   "source": [
    "### Pie Charts"
   ]
  },
  {
   "cell_type": "markdown",
   "metadata": {},
   "source": [
    "That's simple enough. Even though we could estimate from the color counts which color was most common, but looking at the graph, we can say for sure its G! Let's try the same with another type of plot: Pie chart!"
   ]
  },
  {
   "cell_type": "code",
   "execution_count": 13,
   "metadata": {},
   "outputs": [
    {
     "data": {
      "image/png": "[encoded data removed]",
      "text/plain": [
       "<Figure size 864x576 with 1 Axes>"
      ]
     },
     "metadata": {},
     "output_type": "display_data"
    }
   ],
   "source": [
    "# scaling the size of the visualization\n",
    "plt.rcParams['figure.figsize'] = [12, 8]\n",
    "\n",
    "# drawing a pie chart to see breakdown of diamond colors.\n",
    "# pass \n",
    "fig = plt.pie(color_counts, labels=color_counts.index, autopct='%.2f')"
   ]
  },
  {
   "cell_type": "markdown",
   "metadata": {},
   "source": [
    "So, which color diamond is most abundant?\n",
    "\n",
    "\n",
    "Okay so for instance, if we wanted to show actual values instead of Percentage values, we would have to do a bit more work."
   ]
  },
  {
   "cell_type": "code",
   "execution_count": 97,
   "metadata": {},
   "outputs": [
    {
     "data": {
      "image/png": "[encoded data removed]",
      "text/plain": [
       "<Figure size 864x576 with 1 Axes>"
      ]
     },
     "metadata": {},
     "output_type": "display_data"
    }
   ],
   "source": [
    "def to_value_as_str(val):\n",
    "    \"\"\"\n",
    "    autopct generates percentages for the data. So if you pass a formula, it'll pass the respective pct value for the item.\n",
    "    This formula re-converts the percentage back to item value. We know:\n",
    "    pct_value = item_value / total_items * 100\n",
    "    Hence, item_value then becomes:\n",
    "    item_value = (pct_value/100) * total_items\n",
    "    \"\"\"\n",
    "    return str(round(val/100 * color_counts.sum(), 0))\n",
    "\n",
    "fig = plt.pie(color_counts, labels=color_counts.index, autopct=to_value_as_str)"
   ]
  },
  {
   "cell_type": "markdown",
   "metadata": {},
   "source": [
    "Neat. However, in most cases, pie charts are not recommended as they tend to occupy a lot of space and give too little information comparative to other charts. It's good to learn however, you always have an alternative available."
   ]
  },
  {
   "cell_type": "markdown",
   "metadata": {},
   "source": [
    "**Try it Yourself**\n",
    "\n",
    "Now that you know a bit about univariate visuals. How about you try to answer the following questions yourself?\n",
    "- What type of clarity is most common in diamonds?\n",
    "- What type of cuts are most common in diamonds?"
   ]
  },
  {
   "cell_type": "code",
   "execution_count": null,
   "metadata": {},
   "outputs": [],
   "source": []
  },
  {
   "cell_type": "markdown",
   "metadata": {},
   "source": [
    "### Histogram \n",
    "\n",
    "Similar to how bar charts are for distribution of categorical values, for numerical continuous values, we have histograms. To answer the following question:\n",
    "- What is the distribution of carat?"
   ]
  },
  {
   "cell_type": "code",
   "execution_count": 34,
   "metadata": {},
   "outputs": [
    {
     "data": {
      "text/plain": [
       "count    53940.000000\n",
       "mean         0.797940\n",
       "std          0.474011\n",
       "min          0.200000\n",
       "25%          0.400000\n",
       "50%          0.700000\n",
       "75%          1.040000\n",
       "max          5.010000\n",
       "Name: carat, dtype: float64"
      ]
     },
     "execution_count": 34,
     "metadata": {},
     "output_type": "execute_result"
    }
   ],
   "source": [
    "data['carat'].describe()"
   ]
  },
  {
   "cell_type": "code",
   "execution_count": 33,
   "metadata": {},
   "outputs": [
    {
     "data": {
      "text/plain": [
       "Text(0.5, 1.0, 'Carat Distribution of Diamonds')"
      ]
     },
     "execution_count": 33,
     "metadata": {},
     "output_type": "execute_result"
    },
    {
     "data": {
      "image/png": "[encoded data removed]",
      "text/plain": [
       "<Figure size 864x576 with 1 Axes>"
      ]
     },
     "metadata": {
      "needs_background": "light"
     },
     "output_type": "display_data"
    }
   ],
   "source": [
    "# distribution of carat of diamonds.\n",
    "carat_values = data['carat'].values\n",
    "plt.hist(carat_values)\n",
    "plt.xlabel('Carat')\n",
    "plt.ylabel('Frequency (Count of Each Carat Diamond)')\n",
    "plt.title('Carat Distribution of Diamonds')"
   ]
  },
  {
   "cell_type": "code",
   "execution_count": 46,
   "metadata": {},
   "outputs": [
    {
     "data": {
      "text/plain": [
       "<matplotlib.axes._subplots.AxesSubplot at 0x1d1da9c00a0>"
      ]
     },
     "execution_count": 46,
     "metadata": {},
     "output_type": "execute_result"
    },
    {
     "data": {
      "image/png": "[encoded data removed]",
      "text/plain": [
       "<Figure size 288x144 with 1 Axes>"
      ]
     },
     "metadata": {
      "needs_background": "light"
     },
     "output_type": "display_data"
    }
   ],
   "source": [
    "# color \n",
    "plt.rcParams['figure.figsize'] = [4, 2]\n",
    "color = 'D'\n",
    "subset = data[data['color'] == color]['carat']\n",
    "# plt.hist(subset.values)\n",
    "subset.hist()"
   ]
  },
  {
   "cell_type": "code",
   "execution_count": 48,
   "metadata": {},
   "outputs": [
    {
     "data": {
      "text/plain": [
       "<matplotlib.axes._subplots.AxesSubplot at 0x1d1da9bfaf0>"
      ]
     },
     "execution_count": 48,
     "metadata": {},
     "output_type": "execute_result"
    },
    {
     "data": {
      "image/png": "[encoded data removed]",
      "text/plain": [
       "<Figure size 288x144 with 1 Axes>"
      ]
     },
     "metadata": {
      "needs_background": "light"
     },
     "output_type": "display_data"
    }
   ],
   "source": [
    "color = 'E'\n",
    "subset = data[data['color'] == color]['carat']\n",
    "# plt.hist(subset.values)\n",
    "subset.hist()"
   ]
  },
  {
   "cell_type": "code",
   "execution_count": 49,
   "metadata": {},
   "outputs": [
    {
     "data": {
      "text/plain": [
       "<matplotlib.axes._subplots.AxesSubplot at 0x1d1daa8a310>"
      ]
     },
     "execution_count": 49,
     "metadata": {},
     "output_type": "execute_result"
    },
    {
     "data": {
      "image/png": "[encoded data removed]",
      "text/plain": [
       "<Figure size 288x144 with 1 Axes>"
      ]
     },
     "metadata": {
      "needs_background": "light"
     },
     "output_type": "display_data"
    }
   ],
   "source": [
    "color = 'F'\n",
    "subset = data[data['color'] == color]['carat']\n",
    "# plt.hist(subset.values)\n",
    "subset.hist()"
   ]
  },
  {
   "cell_type": "code",
   "execution_count": 50,
   "metadata": {},
   "outputs": [
    {
     "data": {
      "text/plain": [
       "<matplotlib.axes._subplots.AxesSubplot at 0x1d1daaa84f0>"
      ]
     },
     "execution_count": 50,
     "metadata": {},
     "output_type": "execute_result"
    },
    {
     "data": {
      "image/png": "[encoded data removed]",
      "text/plain": [
       "<Figure size 288x144 with 1 Axes>"
      ]
     },
     "metadata": {
      "needs_background": "light"
     },
     "output_type": "display_data"
    }
   ],
   "source": [
    "\n",
    "color = 'G'\n",
    "subset = data[data['color'] == color]['carat']\n",
    "# plt.hist(subset.values)\n",
    "subset.hist()"
   ]
  },
  {
   "cell_type": "code",
   "execution_count": 51,
   "metadata": {},
   "outputs": [
    {
     "data": {
      "text/plain": [
       "<matplotlib.axes._subplots.AxesSubplot at 0x1d1dad58640>"
      ]
     },
     "execution_count": 51,
     "metadata": {},
     "output_type": "execute_result"
    },
    {
     "data": {
      "image/png": "[encoded data removed]",
      "text/plain": [
       "<Figure size 288x144 with 1 Axes>"
      ]
     },
     "metadata": {
      "needs_background": "light"
     },
     "output_type": "display_data"
    }
   ],
   "source": [
    "\n",
    "color = 'H'\n",
    "subset = data[data['color'] == color]['carat']\n",
    "# plt.hist(subset.values)\n",
    "subset.hist()"
   ]
  },
  {
   "cell_type": "code",
   "execution_count": 52,
   "metadata": {},
   "outputs": [
    {
     "data": {
      "text/plain": [
       "<matplotlib.axes._subplots.AxesSubplot at 0x1d1dadb8370>"
      ]
     },
     "execution_count": 52,
     "metadata": {},
     "output_type": "execute_result"
    },
    {
     "data": {
      "image/png": "[encoded data removed]",
      "text/plain": [
       "<Figure size 288x144 with 1 Axes>"
      ]
     },
     "metadata": {
      "needs_background": "light"
     },
     "output_type": "display_data"
    }
   ],
   "source": [
    "\n",
    "color = 'I'\n",
    "subset = data[data['color'] == color]['carat']\n",
    "# plt.hist(subset.values)\n",
    "subset.hist()"
   ]
  },
  {
   "cell_type": "code",
   "execution_count": 53,
   "metadata": {},
   "outputs": [
    {
     "data": {
      "text/plain": [
       "<matplotlib.axes._subplots.AxesSubplot at 0x1d1dae18a60>"
      ]
     },
     "execution_count": 53,
     "metadata": {},
     "output_type": "execute_result"
    },
    {
     "data": {
      "image/png": "[encoded data removed]",
      "text/plain": [
       "<Figure size 288x144 with 1 Axes>"
      ]
     },
     "metadata": {
      "needs_background": "light"
     },
     "output_type": "display_data"
    }
   ],
   "source": [
    "\n",
    "color = 'J'\n",
    "subset = data[data['color'] == color]['carat']\n",
    "# plt.hist(subset.values)\n",
    "subset.hist()"
   ]
  },
  {
   "cell_type": "markdown",
   "metadata": {},
   "source": [
    "Here, each bar represents a count of diamonds that fall into a continuous range. The object returned by this function call is stored in `details`. It contains two arrays:\n",
    "- An array of counts: details[0]\n",
    "- An array of upper ranges of the bins: details[1]"
   ]
  },
  {
   "cell_type": "code",
   "execution_count": null,
   "metadata": {},
   "outputs": [],
   "source": []
  },
  {
   "cell_type": "code",
   "execution_count": 110,
   "metadata": {},
   "outputs": [
    {
     "data": {
      "text/plain": [
       "array([2.5155e+04, 1.8626e+04, 7.1290e+03, 2.3490e+03, 6.1400e+02,\n",
       "       5.3000e+01, 6.0000e+00, 5.0000e+00, 2.0000e+00, 1.0000e+00])"
      ]
     },
     "execution_count": 110,
     "metadata": {},
     "output_type": "execute_result"
    }
   ],
   "source": [
    "# view counts for each bin\n",
    "details[0]\n",
    "# view upper ranges \n",
    "# details[1]"
   ]
  },
  {
   "cell_type": "markdown",
   "metadata": {},
   "source": [
    "The ranges are equi-distant automatically defined. You can also define the number of bins or ranges to create. For instance, if we wanted 50, we could pass the argument `bin=50` as so:"
   ]
  },
  {
   "cell_type": "code",
   "execution_count": 66,
   "metadata": {},
   "outputs": [
    {
     "data": {
      "image/png": "[encoded data removed]",
      "text/plain": [
       "<Figure size 288x144 with 1 Axes>"
      ]
     },
     "metadata": {
      "needs_background": "light"
     },
     "output_type": "display_data"
    }
   ],
   "source": [
    "more_details = plt.hist(data['carat'].values, bins=10)"
   ]
  },
  {
   "cell_type": "code",
   "execution_count": 67,
   "metadata": {},
   "outputs": [
    {
     "data": {
      "text/plain": [
       "array([0.2  , 0.681, 1.162, 1.643, 2.124, 2.605, 3.086, 3.567, 4.048,\n",
       "       4.529, 5.01 ])"
      ]
     },
     "execution_count": 67,
     "metadata": {},
     "output_type": "execute_result"
    }
   ],
   "source": [
    "more_details[1]\n",
    "# plt.hist"
   ]
  },
  {
   "cell_type": "markdown",
   "metadata": {},
   "source": [
    "**Try it Yourself**\n",
    "\n",
    "What other variables can you visualize the distribution of using a histogram? Give it a go."
   ]
  },
  {
   "cell_type": "markdown",
   "metadata": {},
   "source": [
    "### Multivariate Visuals \n",
    "\n",
    "Now moving on to some multivariate visuals. We currently have the following question in mind:\n",
    "- What is the relation between price and carat?\n",
    "\n",
    "Some hypotheses we can start with are:\n",
    "- are prices higher for higher carats and vice versa?\n",
    "- are prices lower for higher carats and vice versa?\n",
    "\n",
    "Since both are numerical data, we can plot a scatter plot between the two to see whether there exists a trend between them. Let's have a look. It takes two main arguments:\n",
    "- x: the x axis variable \n",
    "- y: the y axis variable\n",
    "\n",
    "Normally, we expect y to vary because of x. In our case, we are expecting price to vary because of carat hence price is our dependent or y variable and carat is our independent or x variable."
   ]
  },
  {
   "cell_type": "code",
   "execution_count": 92,
   "metadata": {},
   "outputs": [
    {
     "data": {
      "text/plain": [
       "<matplotlib.axes._subplots.AxesSubplot at 0x1d1dfa3eeb0>"
      ]
     },
     "execution_count": 92,
     "metadata": {},
     "output_type": "execute_result"
    },
    {
     "data": {
      "image/png": "[encoded data removed]",
      "text/plain": [
       "<Figure size 864x576 with 2 Axes>"
      ]
     },
     "metadata": {
      "needs_background": "light"
     },
     "output_type": "display_data"
    }
   ],
   "source": [
    "plt.rcParams['figure.figsize'] = [12, 8]\n",
    "\n",
    "\n",
    "plt.scatter(x=data['carat'], y=data['price'])\n",
    "# add additional formatting \n",
    "plt.ylabel('price')\n",
    "plt.xlabel('carat')\n",
    "\n",
    "\n",
    "# data['carat'].corr(data['price'])\n",
    "corr_matrix = data.corr().round(2)\n",
    "sns.heatmap(corr_matrix)"
   ]
  },
  {
   "cell_type": "markdown",
   "metadata": {},
   "source": [
    "We see quite a trend here. It is clearly evidend that as carat increases, so does the price of the diamond. \n",
    "\n",
    "\n",
    "**Note**: We will discuss correlations and its interpretations in more detail in a later section. For now we are relying on visuals to infer relations."
   ]
  },
  {
   "cell_type": "markdown",
   "metadata": {},
   "source": [
    "**Try it Yourself**\n",
    "\n",
    "\n",
    "Can you determine whether there is a relation between:\n",
    "- price and depth?\n",
    "- price and table?"
   ]
  },
  {
   "cell_type": "markdown",
   "metadata": {},
   "source": [
    "### Same Visuals, Different Library\n",
    "\n",
    "So far we have managed to visualize plots using `matplotlib`. You can do the same with `seaborn`. The latter however comes with more color options and choices. Let's redo our bar chart."
   ]
  },
  {
   "cell_type": "code",
   "execution_count": 148,
   "metadata": {},
   "outputs": [
    {
     "data": {
      "text/plain": [
       "<matplotlib.axes._subplots.AxesSubplot at 0x17b94d39b20>"
      ]
     },
     "execution_count": 148,
     "metadata": {},
     "output_type": "execute_result"
    },
    {
     "data": {
      "image/png": "[encoded data removed]",
      "text/plain": [
       "<Figure size 864x576 with 1 Axes>"
      ]
     },
     "metadata": {
      "needs_background": "light"
     },
     "output_type": "display_data"
    }
   ],
   "source": [
    "import seaborn as sns \n",
    "\n",
    "sns.barplot(x=color_counts.index, y=color_counts.values)"
   ]
  },
  {
   "cell_type": "markdown",
   "metadata": {},
   "source": [
    "You can set `palette` argument to more available paletttes such as:\n",
    "- muted \n",
    "- pastel \n",
    "- deep\n",
    "- bright \n",
    "- dark \n",
    "- colorblind \n",
    "\n",
    "Try them out!\n",
    "\n",
    "OR, alternatively, you can set colors in the `color` argument by passing the \"RGB\" value of a single color to make all bars the same color or a list of colors equal to the count of the bars."
   ]
  },
  {
   "cell_type": "code",
   "execution_count": 142,
   "metadata": {
    "scrolled": true
   },
   "outputs": [
    {
     "data": {
      "text/plain": [
       "{'Almond': '#EFDECD',\n",
       " 'Antique Brass': '#CD9575',\n",
       " 'Apricot': '#FDD9B5',\n",
       " 'Aquamarine': '#78DBE2',\n",
       " 'Asparagus': '#87A96B',\n",
       " 'Atomic Tangerine': '#FFA474',\n",
       " 'Banana Mania': '#FAE7B5',\n",
       " 'Beaver': '#9F8170',\n",
       " 'Bittersweet': '#FD7C6E',\n",
       " 'Black': '#000000',\n",
       " 'Blue': '#1F75FE',\n",
       " 'Blue Bell': '#A2A2D0',\n",
       " 'Blue Green': '#0D98BA',\n",
       " 'Blue Violet': '#7366BD',\n",
       " 'Blush': '#DE5D83',\n",
       " 'Brick Red': '#CB4154',\n",
       " 'Brown': '#B4674D',\n",
       " 'Burnt Orange': '#FF7F49',\n",
       " 'Burnt Sienna': '#EA7E5D',\n",
       " 'Cadet Blue': '#B0B7C6',\n",
       " 'Canary': '#FFFF99',\n",
       " 'Caribbean Green': '#00CC99',\n",
       " 'Carnation Pink': '#FFAACC',\n",
       " 'Cerise': '#DD4492',\n",
       " 'Cerulean': '#1DACD6',\n",
       " 'Chestnut': '#BC5D58',\n",
       " 'Copper': '#DD9475',\n",
       " 'Cornflower': '#9ACEEB',\n",
       " 'Cotton Candy': '#FFBCD9',\n",
       " 'Dandelion': '#FDDB6D',\n",
       " 'Denim': '#2B6CC4',\n",
       " 'Desert Sand': '#EFCDB8',\n",
       " 'Eggplant': '#6E5160',\n",
       " 'Electric Lime': '#CEFF1D',\n",
       " 'Fern': '#71BC78',\n",
       " 'Forest Green': '#6DAE81',\n",
       " 'Fuchsia': '#C364C5',\n",
       " 'Fuzzy Wuzzy': '#CC6666',\n",
       " 'Gold': '#E7C697',\n",
       " 'Goldenrod': '#FCD975',\n",
       " 'Granny Smith Apple': '#A8E4A0',\n",
       " 'Gray': '#95918C',\n",
       " 'Green': '#1CAC78',\n",
       " 'Green Yellow': '#F0E891',\n",
       " 'Hot Magenta': '#FF1DCE',\n",
       " 'Inchworm': '#B2EC5D',\n",
       " 'Indigo': '#5D76CB',\n",
       " 'Jazzberry Jam': '#CA3767',\n",
       " 'Jungle Green': '#3BB08F',\n",
       " 'Laser Lemon': '#FEFE22',\n",
       " 'Lavender': '#FCB4D5',\n",
       " 'Macaroni and Cheese': '#FFBD88',\n",
       " 'Magenta': '#F664AF',\n",
       " 'Mahogany': '#CD4A4C',\n",
       " 'Manatee': '#979AAA',\n",
       " 'Mango Tango': '#FF8243',\n",
       " 'Maroon': '#C8385A',\n",
       " 'Mauvelous': '#EF98AA',\n",
       " 'Melon': '#FDBCB4',\n",
       " 'Midnight Blue': '#1A4876',\n",
       " 'Mountain Meadow': '#30BA8F',\n",
       " 'Navy Blue': '#1974D2',\n",
       " 'Neon Carrot': '#FFA343',\n",
       " 'Olive Green': '#BAB86C',\n",
       " 'Orange': '#FF7538',\n",
       " 'Orchid': '#E6A8D7',\n",
       " 'Outer Space': '#414A4C',\n",
       " 'Outrageous Orange': '#FF6E4A',\n",
       " 'Pacific Blue': '#1CA9C9',\n",
       " 'Peach': '#FFCFAB',\n",
       " 'Periwinkle': '#C5D0E6',\n",
       " 'Piggy Pink': '#FDDDE6',\n",
       " 'Pine Green': '#158078',\n",
       " 'Pink Flamingo': '#FC74FD',\n",
       " 'Pink Sherbert': '#F78FA7',\n",
       " 'Plum': '#8E4585',\n",
       " 'Purple Heart': '#7442C8',\n",
       " \"Purple Mountains' Majesty\": '#9D81BA',\n",
       " 'Purple Pizzazz': '#FE4EDA',\n",
       " 'Radical Red': '#FF496C',\n",
       " 'Raw Sienna': '#D68A59',\n",
       " 'Razzle Dazzle Rose': '#FF48D0',\n",
       " 'Razzmatazz': '#E3256B',\n",
       " 'Red': '#EE204D',\n",
       " 'Red Orange': '#FF5349',\n",
       " 'Red Violet': '#C0448F',\n",
       " \"Robin's Egg Blue\": '#1FCECB',\n",
       " 'Royal Purple': '#7851A9',\n",
       " 'Salmon': '#FF9BAA',\n",
       " 'Scarlet': '#FC2847',\n",
       " \"Screamin' Green\": '#76FF7A',\n",
       " 'Sea Green': '#93DFB8',\n",
       " 'Sepia': '#A5694F',\n",
       " 'Shadow': '#8A795D',\n",
       " 'Shamrock': '#45CEA2',\n",
       " 'Shocking Pink': '#FB7EFD',\n",
       " 'Silver': '#CDC5C2',\n",
       " 'Sky Blue': '#80DAEB',\n",
       " 'Spring Green': '#ECEABE',\n",
       " 'Sunglow': '#FFCF48',\n",
       " 'Sunset Orange': '#FD5E53',\n",
       " 'Tan': '#FAA76C',\n",
       " 'Tickle Me Pink': '#FC89AC',\n",
       " 'Timberwolf': '#DBD7D2',\n",
       " 'Tropical Rain Forest': '#17806D',\n",
       " 'Tumbleweed': '#DEAA88',\n",
       " 'Turquoise Blue': '#77DDE7',\n",
       " 'Unmellow Yellow': '#FFFF66',\n",
       " 'Violet (Purple)': '#926EAE',\n",
       " 'Violet Red': '#F75394',\n",
       " 'Vivid Tangerine': '#FFA089',\n",
       " 'Vivid Violet': '#8F509D',\n",
       " 'White': '#FFFFFF',\n",
       " 'Wild Blue Yonder': '#A2ADD0',\n",
       " 'Wild Strawberry': '#FF43A4',\n",
       " 'Wild Watermelon': '#FC6C85',\n",
       " 'Wisteria': '#CDA4DE',\n",
       " 'Yellow': '#FCE883',\n",
       " 'Yellow Green': '#C5E384',\n",
       " 'Yellow Orange': '#FFAE42'}"
      ]
     },
     "execution_count": 142,
     "metadata": {},
     "output_type": "execute_result"
    }
   ],
   "source": [
    "# full range of individual colors in SNS \n",
    "sns.colors.crayons"
   ]
  },
  {
   "cell_type": "code",
   "execution_count": 79,
   "metadata": {},
   "outputs": [
    {
     "data": {
      "text/plain": [
       "<matplotlib.axes._subplots.AxesSubplot at 0x1d1ddabc850>"
      ]
     },
     "execution_count": 79,
     "metadata": {},
     "output_type": "execute_result"
    },
    {
     "data": {
      "image/png": "[encoded data removed]",
      "text/plain": [
       "<Figure size 864x576 with 1 Axes>"
      ]
     },
     "metadata": {
      "needs_background": "light"
     },
     "output_type": "display_data"
    }
   ],
   "source": [
    "# for color: Antique Brass\n",
    "sns.barplot(x=color_counts.index, y=color_counts.values, palette='dark')"
   ]
  },
  {
   "cell_type": "markdown",
   "metadata": {},
   "source": [
    "Great.\n",
    "\n",
    "\n",
    "Next, let's have a look at another type of univariate plot: Box plot.\n",
    "\n",
    "#### Box Plot\n",
    "\n",
    "A box plot (or box-and-whisker plot) shows the distribution of quantitative data. It shows:\n",
    "- Minimum Score:  lowest score, excluding outliers (shown at the end of the left whisker).\n",
    "Lower Quartile: 25% percent of scores fall below the lower quartile value (also known as the first quartile).\n",
    "- Median: the median marks the mid-point of the data and is shown by the line that divides the box into two parts (sometimes known as the second quartile). Half the scores are greater than or equal to this value and half are less.\n",
    "- Upper Quartile: 75% percent of the scores fall below the upper quartile value (also known as the third quartile). Thus, 25% of data are above this value.\n",
    "- Maximum Score: the highest score, excluding outliers (shown at the end of the right whisker).\n",
    "- Whiskers: the upper and lower whiskers represent scores outside the middle 50% (i.e. the lower 25% of scores and the upper 25% of scores).\n",
    "- The Interquartile Range (or IQR): this is the box plot showing the middle 50% of scores (i.e., the range between the 25th and 75th percentile)."
   ]
  },
  {
   "cell_type": "code",
   "execution_count": 80,
   "metadata": {},
   "outputs": [
    {
     "data": {
      "text/plain": [
       "<matplotlib.axes._subplots.AxesSubplot at 0x1d1dde6f670>"
      ]
     },
     "execution_count": 80,
     "metadata": {},
     "output_type": "execute_result"
    },
    {
     "data": {
      "image/png": "[encoded data removed]",
      "text/plain": [
       "<Figure size 864x576 with 1 Axes>"
      ]
     },
     "metadata": {
      "needs_background": "light"
     },
     "output_type": "display_data"
    }
   ],
   "source": [
    "sns.boxplot(data['carat'])"
   ]
  },
  {
   "cell_type": "markdown",
   "metadata": {},
   "source": [
    "**Try it Yourself**\n",
    "\n",
    "\n",
    "What does the box plot for `price` and `depth` look like?"
   ]
  },
  {
   "cell_type": "markdown",
   "metadata": {},
   "source": [
    "Finally, let's have a look at some time trends. We will look at another dataset for flights. The fun thing about seaborn is that it contains some of its own datasets to play with. You can run `sns.get_dataset_names()` to view available datasets."
   ]
  },
  {
   "cell_type": "code",
   "execution_count": 81,
   "metadata": {},
   "outputs": [
    {
     "name": "stderr",
     "output_type": "stream",
     "text": [
      "C:\\Users\\saarah.rasheed\\Anaconda3\\lib\\site-packages\\seaborn\\utils.py:384: GuessedAtParserWarning: No parser was explicitly specified, so I'm using the best available HTML parser for this system (\"lxml\"). This usually isn't a problem, but if you run this code on another system, or in a different virtual environment, it may use a different parser and behave differently.\n",
      "\n",
      "The code that caused this warning is on line 384 of the file C:\\Users\\saarah.rasheed\\Anaconda3\\lib\\site-packages\\seaborn\\utils.py. To get rid of this warning, pass the additional argument 'features=\"lxml\"' to the BeautifulSoup constructor.\n",
      "\n",
      "  gh_list = BeautifulSoup(http)\n"
     ]
    },
    {
     "data": {
      "text/plain": [
       "['anagrams',\n",
       " 'anscombe',\n",
       " 'attention',\n",
       " 'brain_networks',\n",
       " 'car_crashes',\n",
       " 'diamonds',\n",
       " 'dots',\n",
       " 'exercise',\n",
       " 'flights',\n",
       " 'fmri',\n",
       " 'gammas',\n",
       " 'geyser',\n",
       " 'iris',\n",
       " 'mpg',\n",
       " 'penguins',\n",
       " 'planets',\n",
       " 'tips',\n",
       " 'titanic']"
      ]
     },
     "execution_count": 81,
     "metadata": {},
     "output_type": "execute_result"
    }
   ],
   "source": [
    "sns.get_dataset_names()"
   ]
  },
  {
   "cell_type": "code",
   "execution_count": 181,
   "metadata": {},
   "outputs": [],
   "source": [
    "# we will use the flights dataset. Let's have a look"
   ]
  },
  {
   "cell_type": "code",
   "execution_count": 82,
   "metadata": {},
   "outputs": [
    {
     "data": {
      "text/html": [
       "<div>\n",
       "<style scoped>\n",
       "    .dataframe tbody tr th:only-of-type {\n",
       "        vertical-align: middle;\n",
       "    }\n",
       "\n",
       "    .dataframe tbody tr th {\n",
       "        vertical-align: top;\n",
       "    }\n",
       "\n",
       "    .dataframe thead th {\n",
       "        text-align: right;\n",
       "    }\n",
       "</style>\n",
       "<table border=\"1\" class=\"dataframe\">\n",
       "  <thead>\n",
       "    <tr style=\"text-align: right;\">\n",
       "      <th></th>\n",
       "      <th>year</th>\n",
       "      <th>month</th>\n",
       "      <th>passengers</th>\n",
       "    </tr>\n",
       "  </thead>\n",
       "  <tbody>\n",
       "    <tr>\n",
       "      <th>0</th>\n",
       "      <td>1949</td>\n",
       "      <td>January</td>\n",
       "      <td>112</td>\n",
       "    </tr>\n",
       "    <tr>\n",
       "      <th>1</th>\n",
       "      <td>1949</td>\n",
       "      <td>February</td>\n",
       "      <td>118</td>\n",
       "    </tr>\n",
       "    <tr>\n",
       "      <th>2</th>\n",
       "      <td>1949</td>\n",
       "      <td>March</td>\n",
       "      <td>132</td>\n",
       "    </tr>\n",
       "    <tr>\n",
       "      <th>3</th>\n",
       "      <td>1949</td>\n",
       "      <td>April</td>\n",
       "      <td>129</td>\n",
       "    </tr>\n",
       "    <tr>\n",
       "      <th>4</th>\n",
       "      <td>1949</td>\n",
       "      <td>May</td>\n",
       "      <td>121</td>\n",
       "    </tr>\n",
       "  </tbody>\n",
       "</table>\n",
       "</div>"
      ],
      "text/plain": [
       "   year     month  passengers\n",
       "0  1949   January         112\n",
       "1  1949  February         118\n",
       "2  1949     March         132\n",
       "3  1949     April         129\n",
       "4  1949       May         121"
      ]
     },
     "execution_count": 82,
     "metadata": {},
     "output_type": "execute_result"
    }
   ],
   "source": [
    "flights_data = sns.load_dataset('flights')\n",
    "flights_data.head()"
   ]
  },
  {
   "cell_type": "code",
   "execution_count": 91,
   "metadata": {},
   "outputs": [
    {
     "data": {
      "text/plain": [
       "[<matplotlib.lines.Line2D at 0x1d1df8706d0>]"
      ]
     },
     "execution_count": 91,
     "metadata": {},
     "output_type": "execute_result"
    },
    {
     "data": {
      "image/png": "[encoded data removed]",
      "text/plain": [
       "<Figure size 864x576 with 1 Axes>"
      ]
     },
     "metadata": {
      "needs_background": "light"
     },
     "output_type": "display_data"
    }
   ],
   "source": [
    "flights_data['passengers'].plot()\n",
    "# plt.plot(flights_data['passengers'])\n",
    "# help(plt.plot)\n",
    "plt.plot(flights_data['passengers'])"
   ]
  },
  {
   "cell_type": "markdown",
   "metadata": {},
   "source": [
    "Great this contains time series data of number of passsengers against each year. We can visualize a timeseries trend using `lineplot` in seaborn. "
   ]
  },
  {
   "cell_type": "code",
   "execution_count": 184,
   "metadata": {},
   "outputs": [
    {
     "data": {
      "text/plain": [
       "<matplotlib.axes._subplots.AxesSubplot at 0x17b9a8552e0>"
      ]
     },
     "execution_count": 184,
     "metadata": {},
     "output_type": "execute_result"
    },
    {
     "data": {
      "image/png": "[encoded data removed]",
      "text/plain": [
       "<Figure size 864x576 with 1 Axes>"
      ]
     },
     "metadata": {
      "needs_background": "light"
     },
     "output_type": "display_data"
    }
   ],
   "source": [
    "# draw line plot\n",
    "sns.lineplot(x=flights_data['year'], y=flights_data['passengers'])\n",
    "# alt declaration\n",
    "# sns.lineplot(data=flights_data, x='year', y='passengers')"
   ]
  },
  {
   "cell_type": "markdown",
   "metadata": {},
   "source": [
    "A beautiful chart is shown here that not just draws the line plot but also automatically aggregates repeated values for each year (we have 12 months a year!) and creates a confidence interval (light blue fatter shape) around the average value (the dark blue line). We will learn more about these statistical terms. For now its enough to know that it plots out the possible range of values for each year! That's pretty cool."
   ]
  },
  {
   "cell_type": "markdown",
   "metadata": {},
   "source": [
    "**Try it Yourself**\n",
    "\n",
    "<!-- Note that these datasets are clean so you do not need to think about the cleaning exercise for now! -->\n",
    "Explore the car crashes dataset. Perform the following:\n",
    "- Explore column data types \n",
    "- Jot down questions you can try to answer using visualizations \n",
    "- How many univariate and how many multivariate visuals can you create?\n",
    "- Use only seaborn for your visuals."
   ]
  },
  {
   "cell_type": "code",
   "execution_count": 100,
   "metadata": {},
   "outputs": [],
   "source": [
    "dataset = sns.load_dataset('exercise')"
   ]
  },
  {
   "cell_type": "code",
   "execution_count": 101,
   "metadata": {},
   "outputs": [
    {
     "data": {
      "text/html": [
       "<div>\n",
       "<style scoped>\n",
       "    .dataframe tbody tr th:only-of-type {\n",
       "        vertical-align: middle;\n",
       "    }\n",
       "\n",
       "    .dataframe tbody tr th {\n",
       "        vertical-align: top;\n",
       "    }\n",
       "\n",
       "    .dataframe thead th {\n",
       "        text-align: right;\n",
       "    }\n",
       "</style>\n",
       "<table border=\"1\" class=\"dataframe\">\n",
       "  <thead>\n",
       "    <tr style=\"text-align: right;\">\n",
       "      <th></th>\n",
       "      <th>Unnamed: 0</th>\n",
       "      <th>id</th>\n",
       "      <th>diet</th>\n",
       "      <th>pulse</th>\n",
       "      <th>time</th>\n",
       "      <th>kind</th>\n",
       "    </tr>\n",
       "  </thead>\n",
       "  <tbody>\n",
       "    <tr>\n",
       "      <th>0</th>\n",
       "      <td>0</td>\n",
       "      <td>1</td>\n",
       "      <td>low fat</td>\n",
       "      <td>85</td>\n",
       "      <td>1 min</td>\n",
       "      <td>rest</td>\n",
       "    </tr>\n",
       "    <tr>\n",
       "      <th>1</th>\n",
       "      <td>1</td>\n",
       "      <td>1</td>\n",
       "      <td>low fat</td>\n",
       "      <td>85</td>\n",
       "      <td>15 min</td>\n",
       "      <td>rest</td>\n",
       "    </tr>\n",
       "    <tr>\n",
       "      <th>2</th>\n",
       "      <td>2</td>\n",
       "      <td>1</td>\n",
       "      <td>low fat</td>\n",
       "      <td>88</td>\n",
       "      <td>30 min</td>\n",
       "      <td>rest</td>\n",
       "    </tr>\n",
       "    <tr>\n",
       "      <th>3</th>\n",
       "      <td>3</td>\n",
       "      <td>2</td>\n",
       "      <td>low fat</td>\n",
       "      <td>90</td>\n",
       "      <td>1 min</td>\n",
       "      <td>rest</td>\n",
       "    </tr>\n",
       "    <tr>\n",
       "      <th>4</th>\n",
       "      <td>4</td>\n",
       "      <td>2</td>\n",
       "      <td>low fat</td>\n",
       "      <td>92</td>\n",
       "      <td>15 min</td>\n",
       "      <td>rest</td>\n",
       "    </tr>\n",
       "  </tbody>\n",
       "</table>\n",
       "</div>"
      ],
      "text/plain": [
       "   Unnamed: 0  id     diet  pulse    time  kind\n",
       "0           0   1  low fat     85   1 min  rest\n",
       "1           1   1  low fat     85  15 min  rest\n",
       "2           2   1  low fat     88  30 min  rest\n",
       "3           3   2  low fat     90   1 min  rest\n",
       "4           4   2  low fat     92  15 min  rest"
      ]
     },
     "execution_count": 101,
     "metadata": {},
     "output_type": "execute_result"
    }
   ],
   "source": [
    "dataset.head()"
   ]
  },
  {
   "cell_type": "code",
   "execution_count": 104,
   "metadata": {},
   "outputs": [
    {
     "data": {
      "text/plain": [
       "kind\n",
       "rest        90.833333\n",
       "walking     95.200000\n",
       "running    113.066667\n",
       "Name: pulse, dtype: float64"
      ]
     },
     "execution_count": 104,
     "metadata": {},
     "output_type": "execute_result"
    }
   ],
   "source": [
    "dataset.groupby('kind')['pulse'].mean()"
   ]
  },
  {
   "cell_type": "code",
   "execution_count": 107,
   "metadata": {},
   "outputs": [
    {
     "data": {
      "text/plain": [
       "<matplotlib.axes._subplots.AxesSubplot at 0x1d1dfc32820>"
      ]
     },
     "execution_count": 107,
     "metadata": {},
     "output_type": "execute_result"
    },
    {
     "data": {
      "image/png": "[encoded data removed]",
      "text/plain": [
       "<Figure size 864x576 with 1 Axes>"
      ]
     },
     "metadata": {
      "needs_background": "light"
     },
     "output_type": "display_data"
    }
   ],
   "source": [
    "sns.lineplot(x=dataset['kind'], y=dataset['pulse'])"
   ]
  },
  {
   "cell_type": "code",
   "execution_count": 116,
   "metadata": {},
   "outputs": [
    {
     "data": {
      "text/plain": [
       "<BarContainer object of 3 artists>"
      ]
     },
     "execution_count": 116,
     "metadata": {},
     "output_type": "execute_result"
    },
    {
     "data": {
      "image/png": "[encoded data removed]",
      "text/plain": [
       "<Figure size 864x576 with 1 Axes>"
      ]
     },
     "metadata": {
      "needs_background": "light"
     },
     "output_type": "display_data"
    }
   ],
   "source": [
    "temp = dataset.groupby('kind')['pulse'].mean().sort_values(ascending=False)\n",
    "plt.bar(height=temp.values, x=temp.index)"
   ]
  },
  {
   "cell_type": "code",
   "execution_count": null,
   "metadata": {},
   "outputs": [],
   "source": []
  }
 ],
 "metadata": {
  "kernelspec": {
   "display_name": "Python 3",
   "language": "python",
   "name": "python3"
  },
  "language_info": {
   "codemirror_mode": {
    "name": "ipython",
    "version": 3
   },
   "file_extension": ".py",
   "mimetype": "text/x-python",
   "name": "python",
   "nbconvert_exporter": "python",
   "pygments_lexer": "ipython3",
   "version": "3.8.3"
  }
 },
 "nbformat": 4,
 "nbformat_minor": 4
}
