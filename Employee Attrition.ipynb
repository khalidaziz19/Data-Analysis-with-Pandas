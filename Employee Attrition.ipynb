{
 "cells": [
  {
   "cell_type": "markdown",
   "metadata": {},
   "source": [
    "# Employee Attrition\n",
    "\n",
    "\n",
    "What makes an employee leave a company?\n",
    "We have dataset for factors impacting resignations for employees. Available from here:\n",
    "\n",
    "\n",
    "The following are the columns in our dataset: https://www.kaggle.com/HRAnalyticRepository/employee-attrition-data\n",
    "- employee id\n",
    "- employee record date ( year of data)\n",
    "- birth date\n",
    "- hire date\n",
    "- termination date\n",
    "- age\n",
    "- length of service\n",
    "- city\n",
    "- department\n",
    "- job title\n",
    "- store number\n",
    "- gender\n",
    "- termination reason\n",
    "- termination type\n",
    "- status year\n",
    "- status\n",
    "- business unit\n",
    "\n",
    "These might be typical types of data in hris"
   ]
  },
  {
   "cell_type": "code",
   "execution_count": 1,
   "metadata": {},
   "outputs": [],
   "source": [
    "# import statements \n",
    "import pandas as pd \n",
    "import matplotlib.pyplot as plt"
   ]
  },
  {
   "cell_type": "code",
   "execution_count": 4,
   "metadata": {},
   "outputs": [],
   "source": [
    "file  = r'F:\\projects\\karachi-ai\\Introduction to Python\\notebooks\\c4\\MFG10YearTerminationData.csv'\n",
    "data = pd.read_csv(file)"
   ]
  },
  {
   "cell_type": "code",
   "execution_count": 12,
   "metadata": {},
   "outputs": [
    {
     "data": {
      "text/plain": [
       "array(['1/1/1900', '2/16/2009', '2/19/2014', ..., '11/18/2012',\n",
       "       '7/2/2013', '9/14/2013'], dtype=object)"
      ]
     },
     "execution_count": 12,
     "metadata": {},
     "output_type": "execute_result"
    }
   ],
   "source": [
    "data['terminationdate_key'].unique()\n",
    "# \"Present\", \"Currently Employed\", \"-\""
   ]
  },
  {
   "cell_type": "code",
   "execution_count": 10,
   "metadata": {},
   "outputs": [
    {
     "data": {
      "text/plain": [
       "array(['Executive', 'Store Management', 'Meats', 'Recruitment',\n",
       "       'Training', 'Labor Relations', 'HR Technology', 'Employee Records',\n",
       "       'Compensation', 'Legal', 'Produce', 'Accounts Receiveable',\n",
       "       'Bakery', 'Information Technology', 'Accounts Payable', 'Audit',\n",
       "       'Accounting', 'Investment', 'Dairy', 'Processed Foods',\n",
       "       'Customer Service'], dtype=object)"
      ]
     },
     "execution_count": 10,
     "metadata": {},
     "output_type": "execute_result"
    }
   ],
   "source": [
    "data['department_name'].unique()"
   ]
  },
  {
   "cell_type": "markdown",
   "metadata": {},
   "source": [
    "## Brainstorming Session\n",
    "\n",
    "1. What age did people retire at?\n",
    "2. How many were not applicable? \n",
    "3. What is the usual length of service for people?\n",
    "4. Exploring data for those who were laid-off\n",
    "5. What business units did they belong to?\n",
    "6. Gender wise resignation?\n",
    "7. Who is more length of service based on gender?\n",
    "8. Gender wise breakdown of department"
   ]
  },
  {
   "cell_type": "markdown",
   "metadata": {},
   "source": [
    "### Data Cleaning Checklist\n",
    "1. Check for missing values\n",
    "2. What are the data types of our columns \n",
    "3. duplicated values "
   ]
  },
  {
   "cell_type": "code",
   "execution_count": 14,
   "metadata": {},
   "outputs": [
    {
     "data": {
      "text/plain": [
       "EmployeeID             False\n",
       "recorddate_key         False\n",
       "birthdate_key          False\n",
       "orighiredate_key       False\n",
       "terminationdate_key    False\n",
       "age                    False\n",
       "length_of_service      False\n",
       "city_name              False\n",
       "department_name        False\n",
       "job_title              False\n",
       "store_name             False\n",
       "gender_short           False\n",
       "gender_full            False\n",
       "termreason_desc        False\n",
       "termtype_desc          False\n",
       "STATUS_YEAR            False\n",
       "STATUS                 False\n",
       "BUSINESS_UNIT          False\n",
       "dtype: bool"
      ]
     },
     "execution_count": 14,
     "metadata": {},
     "output_type": "execute_result"
    }
   ],
   "source": [
    "# checking for missing values\n",
    "data.isna().any()"
   ]
  },
  {
   "cell_type": "code",
   "execution_count": 16,
   "metadata": {},
   "outputs": [
    {
     "name": "stdout",
     "output_type": "stream",
     "text": [
      "<class 'pandas.core.frame.DataFrame'>\n",
      "RangeIndex: 49653 entries, 0 to 49652\n",
      "Data columns (total 18 columns):\n",
      " #   Column               Non-Null Count  Dtype \n",
      "---  ------               --------------  ----- \n",
      " 0   EmployeeID           49653 non-null  int64 \n",
      " 1   recorddate_key       49653 non-null  object\n",
      " 2   birthdate_key        49653 non-null  object\n",
      " 3   orighiredate_key     49653 non-null  object\n",
      " 4   terminationdate_key  49653 non-null  object\n",
      " 5   age                  49653 non-null  int64 \n",
      " 6   length_of_service    49653 non-null  int64 \n",
      " 7   city_name            49653 non-null  object\n",
      " 8   department_name      49653 non-null  object\n",
      " 9   job_title            49653 non-null  object\n",
      " 10  store_name           49653 non-null  int64 \n",
      " 11  gender_short         49653 non-null  object\n",
      " 12  gender_full          49653 non-null  object\n",
      " 13  termreason_desc      49653 non-null  object\n",
      " 14  termtype_desc        49653 non-null  object\n",
      " 15  STATUS_YEAR          49653 non-null  int64 \n",
      " 16  STATUS               49653 non-null  object\n",
      " 17  BUSINESS_UNIT        49653 non-null  object\n",
      "dtypes: int64(5), object(13)\n",
      "memory usage: 6.8+ MB\n"
     ]
    }
   ],
   "source": [
    "# checking for data types of the columns \n",
    "data.info()"
   ]
  },
  {
   "cell_type": "code",
   "execution_count": 33,
   "metadata": {},
   "outputs": [],
   "source": [
    "# fix our column data types: recorddate_key, birthdate_key, terminationdate_key\n",
    "\n",
    "temp = data['terminationdate_key'].replace('1/1/1900', '')\n",
    "converted_datetime = pd.to_datetime(temp)\n",
    "# converted_datetime_no_nats = converted_datetime.fillna('-')\n",
    "data['terminationdate_key'] = converted_datetime \n",
    "\n",
    "\n",
    "# record date \n",
    "temp = data['recorddate_key'].replace('1/1/1900', '')\n",
    "converted_datetime = pd.to_datetime(temp)\n",
    "# converted_datetime_no_nats = converted_datetime.fillna('-')\n",
    "data['recorddate_key'] = converted_datetime \n",
    "\n",
    "\n",
    "# hire date \n",
    "temp = data['orighiredate_key'].replace('1/1/1900', '')\n",
    "converted_datetime = pd.to_datetime(temp)\n",
    "# converted_datetime_no_nats = converted_datetime.fillna('-')\n",
    "data['orighiredate_key'] = converted_datetime \n",
    "\n",
    "\n",
    "# birthdate date \n",
    "temp = data['birthdate_key'].replace('1/1/1900', '')\n",
    "converted_datetime = pd.to_datetime(temp)\n",
    "# converted_datetime_no_nats = converted_datetime.fillna('-')\n",
    "data['birthdate_key'] = converted_datetime "
   ]
  },
  {
   "cell_type": "code",
   "execution_count": 34,
   "metadata": {},
   "outputs": [
    {
     "name": "stdout",
     "output_type": "stream",
     "text": [
      "<class 'pandas.core.frame.DataFrame'>\n",
      "RangeIndex: 49653 entries, 0 to 49652\n",
      "Data columns (total 18 columns):\n",
      " #   Column               Non-Null Count  Dtype         \n",
      "---  ------               --------------  -----         \n",
      " 0   EmployeeID           49653 non-null  int64         \n",
      " 1   recorddate_key       49653 non-null  datetime64[ns]\n",
      " 2   birthdate_key        49653 non-null  datetime64[ns]\n",
      " 3   orighiredate_key     49653 non-null  datetime64[ns]\n",
      " 4   terminationdate_key  7203 non-null   datetime64[ns]\n",
      " 5   age                  49653 non-null  int64         \n",
      " 6   length_of_service    49653 non-null  int64         \n",
      " 7   city_name            49653 non-null  object        \n",
      " 8   department_name      49653 non-null  object        \n",
      " 9   job_title            49653 non-null  object        \n",
      " 10  store_name           49653 non-null  int64         \n",
      " 11  gender_short         49653 non-null  object        \n",
      " 12  gender_full          49653 non-null  object        \n",
      " 13  termreason_desc      49653 non-null  object        \n",
      " 14  termtype_desc        49653 non-null  object        \n",
      " 15  STATUS_YEAR          49653 non-null  int64         \n",
      " 16  STATUS               49653 non-null  object        \n",
      " 17  BUSINESS_UNIT        49653 non-null  object        \n",
      "dtypes: datetime64[ns](4), int64(5), object(9)\n",
      "memory usage: 6.8+ MB\n"
     ]
    }
   ],
   "source": [
    "data.info()"
   ]
  },
  {
   "cell_type": "code",
   "execution_count": 37,
   "metadata": {},
   "outputs": [
    {
     "data": {
      "text/plain": [
       "0        False\n",
       "1         True\n",
       "2         True\n",
       "3         True\n",
       "4         True\n",
       "         ...  \n",
       "49648     True\n",
       "49649    False\n",
       "49650     True\n",
       "49651     True\n",
       "49652     True\n",
       "Name: EmployeeID, Length: 49653, dtype: bool"
      ]
     },
     "execution_count": 37,
     "metadata": {},
     "output_type": "execute_result"
    }
   ],
   "source": [
    "data['EmployeeID'].duplicated()"
   ]
  },
  {
   "cell_type": "code",
   "execution_count": 38,
   "metadata": {
    "scrolled": true
   },
   "outputs": [
    {
     "data": {
      "text/html": [
       "<div>\n",
       "<style scoped>\n",
       "    .dataframe tbody tr th:only-of-type {\n",
       "        vertical-align: middle;\n",
       "    }\n",
       "\n",
       "    .dataframe tbody tr th {\n",
       "        vertical-align: top;\n",
       "    }\n",
       "\n",
       "    .dataframe thead th {\n",
       "        text-align: right;\n",
       "    }\n",
       "</style>\n",
       "<table border=\"1\" class=\"dataframe\">\n",
       "  <thead>\n",
       "    <tr style=\"text-align: right;\">\n",
       "      <th></th>\n",
       "      <th>EmployeeID</th>\n",
       "      <th>recorddate_key</th>\n",
       "      <th>birthdate_key</th>\n",
       "      <th>orighiredate_key</th>\n",
       "      <th>terminationdate_key</th>\n",
       "      <th>age</th>\n",
       "      <th>length_of_service</th>\n",
       "      <th>city_name</th>\n",
       "      <th>department_name</th>\n",
       "      <th>job_title</th>\n",
       "      <th>store_name</th>\n",
       "      <th>gender_short</th>\n",
       "      <th>gender_full</th>\n",
       "      <th>termreason_desc</th>\n",
       "      <th>termtype_desc</th>\n",
       "      <th>STATUS_YEAR</th>\n",
       "      <th>STATUS</th>\n",
       "      <th>BUSINESS_UNIT</th>\n",
       "    </tr>\n",
       "  </thead>\n",
       "  <tbody>\n",
       "    <tr>\n",
       "      <th>1</th>\n",
       "      <td>1318</td>\n",
       "      <td>2007-12-31</td>\n",
       "      <td>1954-01-03</td>\n",
       "      <td>1989-08-28</td>\n",
       "      <td>NaT</td>\n",
       "      <td>53</td>\n",
       "      <td>18</td>\n",
       "      <td>Vancouver</td>\n",
       "      <td>Executive</td>\n",
       "      <td>CEO</td>\n",
       "      <td>35</td>\n",
       "      <td>M</td>\n",
       "      <td>Male</td>\n",
       "      <td>Not Applicable</td>\n",
       "      <td>Not Applicable</td>\n",
       "      <td>2007</td>\n",
       "      <td>ACTIVE</td>\n",
       "      <td>HEADOFFICE</td>\n",
       "    </tr>\n",
       "    <tr>\n",
       "      <th>2</th>\n",
       "      <td>1318</td>\n",
       "      <td>2008-12-31</td>\n",
       "      <td>1954-01-03</td>\n",
       "      <td>1989-08-28</td>\n",
       "      <td>NaT</td>\n",
       "      <td>54</td>\n",
       "      <td>19</td>\n",
       "      <td>Vancouver</td>\n",
       "      <td>Executive</td>\n",
       "      <td>CEO</td>\n",
       "      <td>35</td>\n",
       "      <td>M</td>\n",
       "      <td>Male</td>\n",
       "      <td>Not Applicable</td>\n",
       "      <td>Not Applicable</td>\n",
       "      <td>2008</td>\n",
       "      <td>ACTIVE</td>\n",
       "      <td>HEADOFFICE</td>\n",
       "    </tr>\n",
       "    <tr>\n",
       "      <th>3</th>\n",
       "      <td>1318</td>\n",
       "      <td>2009-12-31</td>\n",
       "      <td>1954-01-03</td>\n",
       "      <td>1989-08-28</td>\n",
       "      <td>NaT</td>\n",
       "      <td>55</td>\n",
       "      <td>20</td>\n",
       "      <td>Vancouver</td>\n",
       "      <td>Executive</td>\n",
       "      <td>CEO</td>\n",
       "      <td>35</td>\n",
       "      <td>M</td>\n",
       "      <td>Male</td>\n",
       "      <td>Not Applicable</td>\n",
       "      <td>Not Applicable</td>\n",
       "      <td>2009</td>\n",
       "      <td>ACTIVE</td>\n",
       "      <td>HEADOFFICE</td>\n",
       "    </tr>\n",
       "    <tr>\n",
       "      <th>4</th>\n",
       "      <td>1318</td>\n",
       "      <td>2010-12-31</td>\n",
       "      <td>1954-01-03</td>\n",
       "      <td>1989-08-28</td>\n",
       "      <td>NaT</td>\n",
       "      <td>56</td>\n",
       "      <td>21</td>\n",
       "      <td>Vancouver</td>\n",
       "      <td>Executive</td>\n",
       "      <td>CEO</td>\n",
       "      <td>35</td>\n",
       "      <td>M</td>\n",
       "      <td>Male</td>\n",
       "      <td>Not Applicable</td>\n",
       "      <td>Not Applicable</td>\n",
       "      <td>2010</td>\n",
       "      <td>ACTIVE</td>\n",
       "      <td>HEADOFFICE</td>\n",
       "    </tr>\n",
       "    <tr>\n",
       "      <th>5</th>\n",
       "      <td>1318</td>\n",
       "      <td>2011-12-31</td>\n",
       "      <td>1954-01-03</td>\n",
       "      <td>1989-08-28</td>\n",
       "      <td>NaT</td>\n",
       "      <td>57</td>\n",
       "      <td>22</td>\n",
       "      <td>Vancouver</td>\n",
       "      <td>Executive</td>\n",
       "      <td>CEO</td>\n",
       "      <td>35</td>\n",
       "      <td>M</td>\n",
       "      <td>Male</td>\n",
       "      <td>Not Applicable</td>\n",
       "      <td>Not Applicable</td>\n",
       "      <td>2011</td>\n",
       "      <td>ACTIVE</td>\n",
       "      <td>HEADOFFICE</td>\n",
       "    </tr>\n",
       "    <tr>\n",
       "      <th>...</th>\n",
       "      <td>...</td>\n",
       "      <td>...</td>\n",
       "      <td>...</td>\n",
       "      <td>...</td>\n",
       "      <td>...</td>\n",
       "      <td>...</td>\n",
       "      <td>...</td>\n",
       "      <td>...</td>\n",
       "      <td>...</td>\n",
       "      <td>...</td>\n",
       "      <td>...</td>\n",
       "      <td>...</td>\n",
       "      <td>...</td>\n",
       "      <td>...</td>\n",
       "      <td>...</td>\n",
       "      <td>...</td>\n",
       "      <td>...</td>\n",
       "      <td>...</td>\n",
       "    </tr>\n",
       "    <tr>\n",
       "      <th>49647</th>\n",
       "      <td>8231</td>\n",
       "      <td>2015-12-01</td>\n",
       "      <td>1994-03-01</td>\n",
       "      <td>2013-07-03</td>\n",
       "      <td>2015-12-30</td>\n",
       "      <td>21</td>\n",
       "      <td>2</td>\n",
       "      <td>Princeton</td>\n",
       "      <td>Customer Service</td>\n",
       "      <td>Cashier</td>\n",
       "      <td>27</td>\n",
       "      <td>M</td>\n",
       "      <td>Male</td>\n",
       "      <td>Layoff</td>\n",
       "      <td>Involuntary</td>\n",
       "      <td>2015</td>\n",
       "      <td>TERMINATED</td>\n",
       "      <td>STORES</td>\n",
       "    </tr>\n",
       "    <tr>\n",
       "      <th>49648</th>\n",
       "      <td>8258</td>\n",
       "      <td>2015-12-01</td>\n",
       "      <td>1994-05-28</td>\n",
       "      <td>2013-08-19</td>\n",
       "      <td>2015-12-30</td>\n",
       "      <td>21</td>\n",
       "      <td>2</td>\n",
       "      <td>Valemount</td>\n",
       "      <td>Dairy</td>\n",
       "      <td>Dairy Person</td>\n",
       "      <td>34</td>\n",
       "      <td>M</td>\n",
       "      <td>Male</td>\n",
       "      <td>Layoff</td>\n",
       "      <td>Involuntary</td>\n",
       "      <td>2015</td>\n",
       "      <td>TERMINATED</td>\n",
       "      <td>STORES</td>\n",
       "    </tr>\n",
       "    <tr>\n",
       "      <th>49650</th>\n",
       "      <td>8279</td>\n",
       "      <td>2015-12-01</td>\n",
       "      <td>1994-07-18</td>\n",
       "      <td>2013-09-15</td>\n",
       "      <td>2015-12-30</td>\n",
       "      <td>21</td>\n",
       "      <td>2</td>\n",
       "      <td>White Rock</td>\n",
       "      <td>Customer Service</td>\n",
       "      <td>Cashier</td>\n",
       "      <td>39</td>\n",
       "      <td>F</td>\n",
       "      <td>Female</td>\n",
       "      <td>Layoff</td>\n",
       "      <td>Involuntary</td>\n",
       "      <td>2015</td>\n",
       "      <td>TERMINATED</td>\n",
       "      <td>STORES</td>\n",
       "    </tr>\n",
       "    <tr>\n",
       "      <th>49651</th>\n",
       "      <td>8296</td>\n",
       "      <td>2013-12-01</td>\n",
       "      <td>1994-09-02</td>\n",
       "      <td>2013-10-09</td>\n",
       "      <td>2013-12-31</td>\n",
       "      <td>19</td>\n",
       "      <td>0</td>\n",
       "      <td>Kelowna</td>\n",
       "      <td>Customer Service</td>\n",
       "      <td>Cashier</td>\n",
       "      <td>16</td>\n",
       "      <td>F</td>\n",
       "      <td>Female</td>\n",
       "      <td>Resignaton</td>\n",
       "      <td>Voluntary</td>\n",
       "      <td>2013</td>\n",
       "      <td>TERMINATED</td>\n",
       "      <td>STORES</td>\n",
       "    </tr>\n",
       "    <tr>\n",
       "      <th>49652</th>\n",
       "      <td>8321</td>\n",
       "      <td>2014-12-01</td>\n",
       "      <td>1994-11-28</td>\n",
       "      <td>2013-11-24</td>\n",
       "      <td>2014-12-30</td>\n",
       "      <td>20</td>\n",
       "      <td>1</td>\n",
       "      <td>Grand Forks</td>\n",
       "      <td>Customer Service</td>\n",
       "      <td>Cashier</td>\n",
       "      <td>13</td>\n",
       "      <td>F</td>\n",
       "      <td>Female</td>\n",
       "      <td>Layoff</td>\n",
       "      <td>Involuntary</td>\n",
       "      <td>2014</td>\n",
       "      <td>TERMINATED</td>\n",
       "      <td>STORES</td>\n",
       "    </tr>\n",
       "  </tbody>\n",
       "</table>\n",
       "<p>43369 rows × 18 columns</p>\n",
       "</div>"
      ],
      "text/plain": [
       "       EmployeeID recorddate_key birthdate_key orighiredate_key  \\\n",
       "1            1318     2007-12-31    1954-01-03       1989-08-28   \n",
       "2            1318     2008-12-31    1954-01-03       1989-08-28   \n",
       "3            1318     2009-12-31    1954-01-03       1989-08-28   \n",
       "4            1318     2010-12-31    1954-01-03       1989-08-28   \n",
       "5            1318     2011-12-31    1954-01-03       1989-08-28   \n",
       "...           ...            ...           ...              ...   \n",
       "49647        8231     2015-12-01    1994-03-01       2013-07-03   \n",
       "49648        8258     2015-12-01    1994-05-28       2013-08-19   \n",
       "49650        8279     2015-12-01    1994-07-18       2013-09-15   \n",
       "49651        8296     2013-12-01    1994-09-02       2013-10-09   \n",
       "49652        8321     2014-12-01    1994-11-28       2013-11-24   \n",
       "\n",
       "      terminationdate_key  age  length_of_service    city_name  \\\n",
       "1                     NaT   53                 18    Vancouver   \n",
       "2                     NaT   54                 19    Vancouver   \n",
       "3                     NaT   55                 20    Vancouver   \n",
       "4                     NaT   56                 21    Vancouver   \n",
       "5                     NaT   57                 22    Vancouver   \n",
       "...                   ...  ...                ...          ...   \n",
       "49647          2015-12-30   21                  2    Princeton   \n",
       "49648          2015-12-30   21                  2    Valemount   \n",
       "49650          2015-12-30   21                  2   White Rock   \n",
       "49651          2013-12-31   19                  0      Kelowna   \n",
       "49652          2014-12-30   20                  1  Grand Forks   \n",
       "\n",
       "        department_name     job_title  store_name gender_short gender_full  \\\n",
       "1             Executive           CEO          35            M        Male   \n",
       "2             Executive           CEO          35            M        Male   \n",
       "3             Executive           CEO          35            M        Male   \n",
       "4             Executive           CEO          35            M        Male   \n",
       "5             Executive           CEO          35            M        Male   \n",
       "...                 ...           ...         ...          ...         ...   \n",
       "49647  Customer Service       Cashier          27            M        Male   \n",
       "49648             Dairy  Dairy Person          34            M        Male   \n",
       "49650  Customer Service       Cashier          39            F      Female   \n",
       "49651  Customer Service       Cashier          16            F      Female   \n",
       "49652  Customer Service       Cashier          13            F      Female   \n",
       "\n",
       "      termreason_desc   termtype_desc  STATUS_YEAR      STATUS BUSINESS_UNIT  \n",
       "1      Not Applicable  Not Applicable         2007      ACTIVE    HEADOFFICE  \n",
       "2      Not Applicable  Not Applicable         2008      ACTIVE    HEADOFFICE  \n",
       "3      Not Applicable  Not Applicable         2009      ACTIVE    HEADOFFICE  \n",
       "4      Not Applicable  Not Applicable         2010      ACTIVE    HEADOFFICE  \n",
       "5      Not Applicable  Not Applicable         2011      ACTIVE    HEADOFFICE  \n",
       "...               ...             ...          ...         ...           ...  \n",
       "49647          Layoff     Involuntary         2015  TERMINATED        STORES  \n",
       "49648          Layoff     Involuntary         2015  TERMINATED        STORES  \n",
       "49650          Layoff     Involuntary         2015  TERMINATED        STORES  \n",
       "49651      Resignaton       Voluntary         2013  TERMINATED        STORES  \n",
       "49652          Layoff     Involuntary         2014  TERMINATED        STORES  \n",
       "\n",
       "[43369 rows x 18 columns]"
      ]
     },
     "execution_count": 38,
     "metadata": {},
     "output_type": "execute_result"
    }
   ],
   "source": [
    "data[data['EmployeeID'].duplicated()]"
   ]
  },
  {
   "cell_type": "code",
   "execution_count": 127,
   "metadata": {},
   "outputs": [],
   "source": [
    "# working or not: if termination date, then working, else not working \n",
    "# data['Working or Not'] = 'Working' if data['terminationdate_key'].isna() =else 'Not Working'\n",
    "\n",
    "import numpy as np"
   ]
  },
  {
   "cell_type": "code",
   "execution_count": 128,
   "metadata": {},
   "outputs": [],
   "source": [
    "# np.where(condition, value to return if true, value to return false)\n",
    "data['Working or Not'] = np.where(data['terminationdate_key'].isna() == True, 'Working', 'Not Working')"
   ]
  },
  {
   "cell_type": "code",
   "execution_count": 129,
   "metadata": {},
   "outputs": [
    {
     "data": {
      "text/html": [
       "<div>\n",
       "<style scoped>\n",
       "    .dataframe tbody tr th:only-of-type {\n",
       "        vertical-align: middle;\n",
       "    }\n",
       "\n",
       "    .dataframe tbody tr th {\n",
       "        vertical-align: top;\n",
       "    }\n",
       "\n",
       "    .dataframe thead th {\n",
       "        text-align: right;\n",
       "    }\n",
       "</style>\n",
       "<table border=\"1\" class=\"dataframe\">\n",
       "  <thead>\n",
       "    <tr style=\"text-align: right;\">\n",
       "      <th></th>\n",
       "      <th>EmployeeID</th>\n",
       "      <th>recorddate_key</th>\n",
       "      <th>birthdate_key</th>\n",
       "      <th>orighiredate_key</th>\n",
       "      <th>terminationdate_key</th>\n",
       "      <th>age</th>\n",
       "      <th>length_of_service</th>\n",
       "      <th>city_name</th>\n",
       "      <th>department_name</th>\n",
       "      <th>job_title</th>\n",
       "      <th>store_name</th>\n",
       "      <th>gender_short</th>\n",
       "      <th>gender_full</th>\n",
       "      <th>termreason_desc</th>\n",
       "      <th>termtype_desc</th>\n",
       "      <th>STATUS_YEAR</th>\n",
       "      <th>STATUS</th>\n",
       "      <th>BUSINESS_UNIT</th>\n",
       "      <th>recordyear_key</th>\n",
       "      <th>Working or Not</th>\n",
       "    </tr>\n",
       "  </thead>\n",
       "  <tbody>\n",
       "    <tr>\n",
       "      <th>0</th>\n",
       "      <td>1318</td>\n",
       "      <td>2006-12-31</td>\n",
       "      <td>1954-01-03</td>\n",
       "      <td>1989-08-28</td>\n",
       "      <td>NaT</td>\n",
       "      <td>52</td>\n",
       "      <td>17</td>\n",
       "      <td>Vancouver</td>\n",
       "      <td>Executive</td>\n",
       "      <td>CEO</td>\n",
       "      <td>35</td>\n",
       "      <td>M</td>\n",
       "      <td>Male</td>\n",
       "      <td>Not Applicable</td>\n",
       "      <td>Not Applicable</td>\n",
       "      <td>2006</td>\n",
       "      <td>ACTIVE</td>\n",
       "      <td>HEADOFFICE</td>\n",
       "      <td>2006</td>\n",
       "      <td>Working</td>\n",
       "    </tr>\n",
       "    <tr>\n",
       "      <th>1</th>\n",
       "      <td>1318</td>\n",
       "      <td>2007-12-31</td>\n",
       "      <td>1954-01-03</td>\n",
       "      <td>1989-08-28</td>\n",
       "      <td>NaT</td>\n",
       "      <td>53</td>\n",
       "      <td>18</td>\n",
       "      <td>Vancouver</td>\n",
       "      <td>Executive</td>\n",
       "      <td>CEO</td>\n",
       "      <td>35</td>\n",
       "      <td>M</td>\n",
       "      <td>Male</td>\n",
       "      <td>Not Applicable</td>\n",
       "      <td>Not Applicable</td>\n",
       "      <td>2007</td>\n",
       "      <td>ACTIVE</td>\n",
       "      <td>HEADOFFICE</td>\n",
       "      <td>2007</td>\n",
       "      <td>Working</td>\n",
       "    </tr>\n",
       "    <tr>\n",
       "      <th>2</th>\n",
       "      <td>1318</td>\n",
       "      <td>2008-12-31</td>\n",
       "      <td>1954-01-03</td>\n",
       "      <td>1989-08-28</td>\n",
       "      <td>NaT</td>\n",
       "      <td>54</td>\n",
       "      <td>19</td>\n",
       "      <td>Vancouver</td>\n",
       "      <td>Executive</td>\n",
       "      <td>CEO</td>\n",
       "      <td>35</td>\n",
       "      <td>M</td>\n",
       "      <td>Male</td>\n",
       "      <td>Not Applicable</td>\n",
       "      <td>Not Applicable</td>\n",
       "      <td>2008</td>\n",
       "      <td>ACTIVE</td>\n",
       "      <td>HEADOFFICE</td>\n",
       "      <td>2008</td>\n",
       "      <td>Working</td>\n",
       "    </tr>\n",
       "    <tr>\n",
       "      <th>3</th>\n",
       "      <td>1318</td>\n",
       "      <td>2009-12-31</td>\n",
       "      <td>1954-01-03</td>\n",
       "      <td>1989-08-28</td>\n",
       "      <td>NaT</td>\n",
       "      <td>55</td>\n",
       "      <td>20</td>\n",
       "      <td>Vancouver</td>\n",
       "      <td>Executive</td>\n",
       "      <td>CEO</td>\n",
       "      <td>35</td>\n",
       "      <td>M</td>\n",
       "      <td>Male</td>\n",
       "      <td>Not Applicable</td>\n",
       "      <td>Not Applicable</td>\n",
       "      <td>2009</td>\n",
       "      <td>ACTIVE</td>\n",
       "      <td>HEADOFFICE</td>\n",
       "      <td>2009</td>\n",
       "      <td>Working</td>\n",
       "    </tr>\n",
       "    <tr>\n",
       "      <th>4</th>\n",
       "      <td>1318</td>\n",
       "      <td>2010-12-31</td>\n",
       "      <td>1954-01-03</td>\n",
       "      <td>1989-08-28</td>\n",
       "      <td>NaT</td>\n",
       "      <td>56</td>\n",
       "      <td>21</td>\n",
       "      <td>Vancouver</td>\n",
       "      <td>Executive</td>\n",
       "      <td>CEO</td>\n",
       "      <td>35</td>\n",
       "      <td>M</td>\n",
       "      <td>Male</td>\n",
       "      <td>Not Applicable</td>\n",
       "      <td>Not Applicable</td>\n",
       "      <td>2010</td>\n",
       "      <td>ACTIVE</td>\n",
       "      <td>HEADOFFICE</td>\n",
       "      <td>2010</td>\n",
       "      <td>Working</td>\n",
       "    </tr>\n",
       "  </tbody>\n",
       "</table>\n",
       "</div>"
      ],
      "text/plain": [
       "   EmployeeID recorddate_key birthdate_key orighiredate_key  \\\n",
       "0        1318     2006-12-31    1954-01-03       1989-08-28   \n",
       "1        1318     2007-12-31    1954-01-03       1989-08-28   \n",
       "2        1318     2008-12-31    1954-01-03       1989-08-28   \n",
       "3        1318     2009-12-31    1954-01-03       1989-08-28   \n",
       "4        1318     2010-12-31    1954-01-03       1989-08-28   \n",
       "\n",
       "  terminationdate_key  age  length_of_service  city_name department_name  \\\n",
       "0                 NaT   52                 17  Vancouver       Executive   \n",
       "1                 NaT   53                 18  Vancouver       Executive   \n",
       "2                 NaT   54                 19  Vancouver       Executive   \n",
       "3                 NaT   55                 20  Vancouver       Executive   \n",
       "4                 NaT   56                 21  Vancouver       Executive   \n",
       "\n",
       "  job_title  store_name gender_short gender_full termreason_desc  \\\n",
       "0       CEO          35            M        Male  Not Applicable   \n",
       "1       CEO          35            M        Male  Not Applicable   \n",
       "2       CEO          35            M        Male  Not Applicable   \n",
       "3       CEO          35            M        Male  Not Applicable   \n",
       "4       CEO          35            M        Male  Not Applicable   \n",
       "\n",
       "    termtype_desc  STATUS_YEAR  STATUS BUSINESS_UNIT  recordyear_key  \\\n",
       "0  Not Applicable         2006  ACTIVE    HEADOFFICE            2006   \n",
       "1  Not Applicable         2007  ACTIVE    HEADOFFICE            2007   \n",
       "2  Not Applicable         2008  ACTIVE    HEADOFFICE            2008   \n",
       "3  Not Applicable         2009  ACTIVE    HEADOFFICE            2009   \n",
       "4  Not Applicable         2010  ACTIVE    HEADOFFICE            2010   \n",
       "\n",
       "  Working or Not  \n",
       "0        Working  \n",
       "1        Working  \n",
       "2        Working  \n",
       "3        Working  \n",
       "4        Working  "
      ]
     },
     "execution_count": 129,
     "metadata": {},
     "output_type": "execute_result"
    }
   ],
   "source": [
    "data.head()"
   ]
  },
  {
   "cell_type": "code",
   "execution_count": 130,
   "metadata": {},
   "outputs": [
    {
     "data": {
      "text/plain": [
       "[numpy.datetime64('2006-01-01T00:00:00.000000000'),\n",
       " numpy.datetime64('2006-02-01T00:00:00.000000000'),\n",
       " numpy.datetime64('2006-03-01T00:00:00.000000000'),\n",
       " numpy.datetime64('2006-04-01T00:00:00.000000000'),\n",
       " numpy.datetime64('2006-05-01T00:00:00.000000000'),\n",
       " numpy.datetime64('2006-06-01T00:00:00.000000000'),\n",
       " numpy.datetime64('2006-07-01T00:00:00.000000000'),\n",
       " numpy.datetime64('2006-08-01T00:00:00.000000000'),\n",
       " numpy.datetime64('2006-09-01T00:00:00.000000000'),\n",
       " numpy.datetime64('2006-10-01T00:00:00.000000000'),\n",
       " numpy.datetime64('2006-11-01T00:00:00.000000000'),\n",
       " numpy.datetime64('2006-12-01T00:00:00.000000000'),\n",
       " numpy.datetime64('2006-12-31T00:00:00.000000000'),\n",
       " numpy.datetime64('2007-01-01T00:00:00.000000000'),\n",
       " numpy.datetime64('2007-02-01T00:00:00.000000000'),\n",
       " numpy.datetime64('2007-03-01T00:00:00.000000000'),\n",
       " numpy.datetime64('2007-04-01T00:00:00.000000000'),\n",
       " numpy.datetime64('2007-05-01T00:00:00.000000000'),\n",
       " numpy.datetime64('2007-06-01T00:00:00.000000000'),\n",
       " numpy.datetime64('2007-07-01T00:00:00.000000000'),\n",
       " numpy.datetime64('2007-08-01T00:00:00.000000000'),\n",
       " numpy.datetime64('2007-09-01T00:00:00.000000000'),\n",
       " numpy.datetime64('2007-10-01T00:00:00.000000000'),\n",
       " numpy.datetime64('2007-11-01T00:00:00.000000000'),\n",
       " numpy.datetime64('2007-12-01T00:00:00.000000000'),\n",
       " numpy.datetime64('2007-12-31T00:00:00.000000000'),\n",
       " numpy.datetime64('2008-01-01T00:00:00.000000000'),\n",
       " numpy.datetime64('2008-02-01T00:00:00.000000000'),\n",
       " numpy.datetime64('2008-03-01T00:00:00.000000000'),\n",
       " numpy.datetime64('2008-04-01T00:00:00.000000000'),\n",
       " numpy.datetime64('2008-05-01T00:00:00.000000000'),\n",
       " numpy.datetime64('2008-06-01T00:00:00.000000000'),\n",
       " numpy.datetime64('2008-07-01T00:00:00.000000000'),\n",
       " numpy.datetime64('2008-08-01T00:00:00.000000000'),\n",
       " numpy.datetime64('2008-09-01T00:00:00.000000000'),\n",
       " numpy.datetime64('2008-10-01T00:00:00.000000000'),\n",
       " numpy.datetime64('2008-11-01T00:00:00.000000000'),\n",
       " numpy.datetime64('2008-12-01T00:00:00.000000000'),\n",
       " numpy.datetime64('2008-12-31T00:00:00.000000000'),\n",
       " numpy.datetime64('2009-01-01T00:00:00.000000000'),\n",
       " numpy.datetime64('2009-02-01T00:00:00.000000000'),\n",
       " numpy.datetime64('2009-03-01T00:00:00.000000000'),\n",
       " numpy.datetime64('2009-04-01T00:00:00.000000000'),\n",
       " numpy.datetime64('2009-05-01T00:00:00.000000000'),\n",
       " numpy.datetime64('2009-06-01T00:00:00.000000000'),\n",
       " numpy.datetime64('2009-07-01T00:00:00.000000000'),\n",
       " numpy.datetime64('2009-08-01T00:00:00.000000000'),\n",
       " numpy.datetime64('2009-09-01T00:00:00.000000000'),\n",
       " numpy.datetime64('2009-10-01T00:00:00.000000000'),\n",
       " numpy.datetime64('2009-11-01T00:00:00.000000000'),\n",
       " numpy.datetime64('2009-12-01T00:00:00.000000000'),\n",
       " numpy.datetime64('2009-12-31T00:00:00.000000000'),\n",
       " numpy.datetime64('2010-01-01T00:00:00.000000000'),\n",
       " numpy.datetime64('2010-02-01T00:00:00.000000000'),\n",
       " numpy.datetime64('2010-03-01T00:00:00.000000000'),\n",
       " numpy.datetime64('2010-04-01T00:00:00.000000000'),\n",
       " numpy.datetime64('2010-05-01T00:00:00.000000000'),\n",
       " numpy.datetime64('2010-06-01T00:00:00.000000000'),\n",
       " numpy.datetime64('2010-07-01T00:00:00.000000000'),\n",
       " numpy.datetime64('2010-08-01T00:00:00.000000000'),\n",
       " numpy.datetime64('2010-09-01T00:00:00.000000000'),\n",
       " numpy.datetime64('2010-10-01T00:00:00.000000000'),\n",
       " numpy.datetime64('2010-11-01T00:00:00.000000000'),\n",
       " numpy.datetime64('2010-12-01T00:00:00.000000000'),\n",
       " numpy.datetime64('2010-12-31T00:00:00.000000000'),\n",
       " numpy.datetime64('2011-01-01T00:00:00.000000000'),\n",
       " numpy.datetime64('2011-02-01T00:00:00.000000000'),\n",
       " numpy.datetime64('2011-03-01T00:00:00.000000000'),\n",
       " numpy.datetime64('2011-04-01T00:00:00.000000000'),\n",
       " numpy.datetime64('2011-05-01T00:00:00.000000000'),\n",
       " numpy.datetime64('2011-06-01T00:00:00.000000000'),\n",
       " numpy.datetime64('2011-07-01T00:00:00.000000000'),\n",
       " numpy.datetime64('2011-08-01T00:00:00.000000000'),\n",
       " numpy.datetime64('2011-09-01T00:00:00.000000000'),\n",
       " numpy.datetime64('2011-10-01T00:00:00.000000000'),\n",
       " numpy.datetime64('2011-11-01T00:00:00.000000000'),\n",
       " numpy.datetime64('2011-12-01T00:00:00.000000000'),\n",
       " numpy.datetime64('2011-12-31T00:00:00.000000000'),\n",
       " numpy.datetime64('2012-01-01T00:00:00.000000000'),\n",
       " numpy.datetime64('2012-02-01T00:00:00.000000000'),\n",
       " numpy.datetime64('2012-03-01T00:00:00.000000000'),\n",
       " numpy.datetime64('2012-04-01T00:00:00.000000000'),\n",
       " numpy.datetime64('2012-05-01T00:00:00.000000000'),\n",
       " numpy.datetime64('2012-06-01T00:00:00.000000000'),\n",
       " numpy.datetime64('2012-07-01T00:00:00.000000000'),\n",
       " numpy.datetime64('2012-08-01T00:00:00.000000000'),\n",
       " numpy.datetime64('2012-09-01T00:00:00.000000000'),\n",
       " numpy.datetime64('2012-10-01T00:00:00.000000000'),\n",
       " numpy.datetime64('2012-11-01T00:00:00.000000000'),\n",
       " numpy.datetime64('2012-12-01T00:00:00.000000000'),\n",
       " numpy.datetime64('2012-12-31T00:00:00.000000000'),\n",
       " numpy.datetime64('2013-01-01T00:00:00.000000000'),\n",
       " numpy.datetime64('2013-02-01T00:00:00.000000000'),\n",
       " numpy.datetime64('2013-03-01T00:00:00.000000000'),\n",
       " numpy.datetime64('2013-04-01T00:00:00.000000000'),\n",
       " numpy.datetime64('2013-05-01T00:00:00.000000000'),\n",
       " numpy.datetime64('2013-06-01T00:00:00.000000000'),\n",
       " numpy.datetime64('2013-07-01T00:00:00.000000000'),\n",
       " numpy.datetime64('2013-08-01T00:00:00.000000000'),\n",
       " numpy.datetime64('2013-09-01T00:00:00.000000000'),\n",
       " numpy.datetime64('2013-10-01T00:00:00.000000000'),\n",
       " numpy.datetime64('2013-11-01T00:00:00.000000000'),\n",
       " numpy.datetime64('2013-12-01T00:00:00.000000000'),\n",
       " numpy.datetime64('2013-12-31T00:00:00.000000000'),\n",
       " numpy.datetime64('2014-01-01T00:00:00.000000000'),\n",
       " numpy.datetime64('2014-02-01T00:00:00.000000000'),\n",
       " numpy.datetime64('2014-03-01T00:00:00.000000000'),\n",
       " numpy.datetime64('2014-04-01T00:00:00.000000000'),\n",
       " numpy.datetime64('2014-05-01T00:00:00.000000000'),\n",
       " numpy.datetime64('2014-06-01T00:00:00.000000000'),\n",
       " numpy.datetime64('2014-07-01T00:00:00.000000000'),\n",
       " numpy.datetime64('2014-08-01T00:00:00.000000000'),\n",
       " numpy.datetime64('2014-09-01T00:00:00.000000000'),\n",
       " numpy.datetime64('2014-10-01T00:00:00.000000000'),\n",
       " numpy.datetime64('2014-11-01T00:00:00.000000000'),\n",
       " numpy.datetime64('2014-12-01T00:00:00.000000000'),\n",
       " numpy.datetime64('2014-12-31T00:00:00.000000000'),\n",
       " numpy.datetime64('2015-01-01T00:00:00.000000000'),\n",
       " numpy.datetime64('2015-02-01T00:00:00.000000000'),\n",
       " numpy.datetime64('2015-03-01T00:00:00.000000000'),\n",
       " numpy.datetime64('2015-04-01T00:00:00.000000000'),\n",
       " numpy.datetime64('2015-05-01T00:00:00.000000000'),\n",
       " numpy.datetime64('2015-06-01T00:00:00.000000000'),\n",
       " numpy.datetime64('2015-07-01T00:00:00.000000000'),\n",
       " numpy.datetime64('2015-08-01T00:00:00.000000000'),\n",
       " numpy.datetime64('2015-09-01T00:00:00.000000000'),\n",
       " numpy.datetime64('2015-10-01T00:00:00.000000000'),\n",
       " numpy.datetime64('2015-11-01T00:00:00.000000000'),\n",
       " numpy.datetime64('2015-12-01T00:00:00.000000000'),\n",
       " numpy.datetime64('2015-12-31T00:00:00.000000000')]"
      ]
     },
     "execution_count": 130,
     "metadata": {},
     "output_type": "execute_result"
    }
   ],
   "source": [
    "sorted(data['recorddate_key'].unique())"
   ]
  },
  {
   "cell_type": "code",
   "execution_count": 131,
   "metadata": {},
   "outputs": [],
   "source": [
    "# latest_data = data[data['recorddate_key'] '2015']\n",
    "# data['recordyear_key'] = \n",
    "\n",
    "def get_year(value):\n",
    "    year = value.year\n",
    "    return year\n",
    "\n",
    "# create new year wise column for records \n",
    "data['recordyear_key'] = data['recorddate_key'].apply(get_year)\n",
    "latest_data = data[data['recordyear_key'] == 2014]"
   ]
  },
  {
   "cell_type": "code",
   "execution_count": 132,
   "metadata": {},
   "outputs": [
    {
     "data": {
      "text/plain": [
       "(5215, 20)"
      ]
     },
     "execution_count": 132,
     "metadata": {},
     "output_type": "execute_result"
    }
   ],
   "source": [
    "latest_data.shape"
   ]
  },
  {
   "cell_type": "code",
   "execution_count": 133,
   "metadata": {},
   "outputs": [
    {
     "data": {
      "text/plain": [
       "10.502890056995549"
      ]
     },
     "execution_count": 133,
     "metadata": {},
     "output_type": "execute_result"
    }
   ],
   "source": [
    "latest_data.shape[0]/data.shape[0]*100"
   ]
  },
  {
   "cell_type": "code",
   "execution_count": 134,
   "metadata": {},
   "outputs": [
    {
     "data": {
      "text/plain": [
       "True"
      ]
     },
     "execution_count": 134,
     "metadata": {},
     "output_type": "execute_result"
    }
   ],
   "source": [
    "# rerun duplicate check \n",
    "latest_data['EmployeeID'].duplicated().any()"
   ]
  },
  {
   "cell_type": "code",
   "execution_count": null,
   "metadata": {},
   "outputs": [],
   "source": []
  },
  {
   "cell_type": "markdown",
   "metadata": {},
   "source": [
    "## Brainstorming Session\n",
    "\n",
    "1. What age did people retire at?\n",
    "2. How many were not applicable? \n",
    "3. What is the usual length of service for people?\n",
    "4. Exploring data for those who were laid-off\n",
    "5. What business units did they belong to?\n",
    "6. Gender wise resignation?\n",
    "7. Who is more length of service based on gender?\n",
    "8. Gender wise breakdown of department"
   ]
  },
  {
   "cell_type": "code",
   "execution_count": 135,
   "metadata": {
    "scrolled": true
   },
   "outputs": [
    {
     "data": {
      "text/html": [
       "<div>\n",
       "<style scoped>\n",
       "    .dataframe tbody tr th:only-of-type {\n",
       "        vertical-align: middle;\n",
       "    }\n",
       "\n",
       "    .dataframe tbody tr th {\n",
       "        vertical-align: top;\n",
       "    }\n",
       "\n",
       "    .dataframe thead th {\n",
       "        text-align: right;\n",
       "    }\n",
       "</style>\n",
       "<table border=\"1\" class=\"dataframe\">\n",
       "  <thead>\n",
       "    <tr style=\"text-align: right;\">\n",
       "      <th></th>\n",
       "      <th>EmployeeID</th>\n",
       "      <th>recorddate_key</th>\n",
       "      <th>birthdate_key</th>\n",
       "      <th>orighiredate_key</th>\n",
       "      <th>terminationdate_key</th>\n",
       "      <th>age</th>\n",
       "      <th>length_of_service</th>\n",
       "      <th>city_name</th>\n",
       "      <th>department_name</th>\n",
       "      <th>job_title</th>\n",
       "      <th>store_name</th>\n",
       "      <th>gender_short</th>\n",
       "      <th>gender_full</th>\n",
       "      <th>termreason_desc</th>\n",
       "      <th>termtype_desc</th>\n",
       "      <th>STATUS_YEAR</th>\n",
       "      <th>STATUS</th>\n",
       "      <th>BUSINESS_UNIT</th>\n",
       "      <th>recordyear_key</th>\n",
       "      <th>Working or Not</th>\n",
       "    </tr>\n",
       "  </thead>\n",
       "  <tbody>\n",
       "    <tr>\n",
       "      <th>8</th>\n",
       "      <td>1318</td>\n",
       "      <td>2014-12-31</td>\n",
       "      <td>1954-01-03</td>\n",
       "      <td>1989-08-28</td>\n",
       "      <td>NaT</td>\n",
       "      <td>60</td>\n",
       "      <td>25</td>\n",
       "      <td>Vancouver</td>\n",
       "      <td>Executive</td>\n",
       "      <td>CEO</td>\n",
       "      <td>35</td>\n",
       "      <td>M</td>\n",
       "      <td>Male</td>\n",
       "      <td>Not Applicable</td>\n",
       "      <td>Not Applicable</td>\n",
       "      <td>2014</td>\n",
       "      <td>ACTIVE</td>\n",
       "      <td>HEADOFFICE</td>\n",
       "      <td>2014</td>\n",
       "      <td>Working</td>\n",
       "    </tr>\n",
       "    <tr>\n",
       "      <th>18</th>\n",
       "      <td>1319</td>\n",
       "      <td>2014-12-31</td>\n",
       "      <td>1957-01-03</td>\n",
       "      <td>1989-08-28</td>\n",
       "      <td>NaT</td>\n",
       "      <td>57</td>\n",
       "      <td>25</td>\n",
       "      <td>Vancouver</td>\n",
       "      <td>Executive</td>\n",
       "      <td>VP Stores</td>\n",
       "      <td>35</td>\n",
       "      <td>F</td>\n",
       "      <td>Female</td>\n",
       "      <td>Not Applicable</td>\n",
       "      <td>Not Applicable</td>\n",
       "      <td>2014</td>\n",
       "      <td>ACTIVE</td>\n",
       "      <td>HEADOFFICE</td>\n",
       "      <td>2014</td>\n",
       "      <td>Working</td>\n",
       "    </tr>\n",
       "    <tr>\n",
       "      <th>28</th>\n",
       "      <td>1320</td>\n",
       "      <td>2014-12-31</td>\n",
       "      <td>1955-01-02</td>\n",
       "      <td>1989-08-28</td>\n",
       "      <td>NaT</td>\n",
       "      <td>59</td>\n",
       "      <td>25</td>\n",
       "      <td>Vancouver</td>\n",
       "      <td>Executive</td>\n",
       "      <td>Legal Counsel</td>\n",
       "      <td>35</td>\n",
       "      <td>F</td>\n",
       "      <td>Female</td>\n",
       "      <td>Not Applicable</td>\n",
       "      <td>Not Applicable</td>\n",
       "      <td>2014</td>\n",
       "      <td>ACTIVE</td>\n",
       "      <td>HEADOFFICE</td>\n",
       "      <td>2014</td>\n",
       "      <td>Working</td>\n",
       "    </tr>\n",
       "    <tr>\n",
       "      <th>38</th>\n",
       "      <td>1321</td>\n",
       "      <td>2014-12-31</td>\n",
       "      <td>1959-01-02</td>\n",
       "      <td>1989-08-28</td>\n",
       "      <td>NaT</td>\n",
       "      <td>55</td>\n",
       "      <td>25</td>\n",
       "      <td>Vancouver</td>\n",
       "      <td>Executive</td>\n",
       "      <td>VP Human Resources</td>\n",
       "      <td>35</td>\n",
       "      <td>M</td>\n",
       "      <td>Male</td>\n",
       "      <td>Not Applicable</td>\n",
       "      <td>Not Applicable</td>\n",
       "      <td>2014</td>\n",
       "      <td>ACTIVE</td>\n",
       "      <td>HEADOFFICE</td>\n",
       "      <td>2014</td>\n",
       "      <td>Working</td>\n",
       "    </tr>\n",
       "    <tr>\n",
       "      <th>48</th>\n",
       "      <td>1322</td>\n",
       "      <td>2014-12-31</td>\n",
       "      <td>1958-01-09</td>\n",
       "      <td>1989-08-31</td>\n",
       "      <td>NaT</td>\n",
       "      <td>56</td>\n",
       "      <td>25</td>\n",
       "      <td>Vancouver</td>\n",
       "      <td>Executive</td>\n",
       "      <td>VP Finance</td>\n",
       "      <td>35</td>\n",
       "      <td>M</td>\n",
       "      <td>Male</td>\n",
       "      <td>Not Applicable</td>\n",
       "      <td>Not Applicable</td>\n",
       "      <td>2014</td>\n",
       "      <td>ACTIVE</td>\n",
       "      <td>HEADOFFICE</td>\n",
       "      <td>2014</td>\n",
       "      <td>Working</td>\n",
       "    </tr>\n",
       "  </tbody>\n",
       "</table>\n",
       "</div>"
      ],
      "text/plain": [
       "    EmployeeID recorddate_key birthdate_key orighiredate_key  \\\n",
       "8         1318     2014-12-31    1954-01-03       1989-08-28   \n",
       "18        1319     2014-12-31    1957-01-03       1989-08-28   \n",
       "28        1320     2014-12-31    1955-01-02       1989-08-28   \n",
       "38        1321     2014-12-31    1959-01-02       1989-08-28   \n",
       "48        1322     2014-12-31    1958-01-09       1989-08-31   \n",
       "\n",
       "   terminationdate_key  age  length_of_service  city_name department_name  \\\n",
       "8                  NaT   60                 25  Vancouver       Executive   \n",
       "18                 NaT   57                 25  Vancouver       Executive   \n",
       "28                 NaT   59                 25  Vancouver       Executive   \n",
       "38                 NaT   55                 25  Vancouver       Executive   \n",
       "48                 NaT   56                 25  Vancouver       Executive   \n",
       "\n",
       "             job_title  store_name gender_short gender_full termreason_desc  \\\n",
       "8                  CEO          35            M        Male  Not Applicable   \n",
       "18           VP Stores          35            F      Female  Not Applicable   \n",
       "28       Legal Counsel          35            F      Female  Not Applicable   \n",
       "38  VP Human Resources          35            M        Male  Not Applicable   \n",
       "48          VP Finance          35            M        Male  Not Applicable   \n",
       "\n",
       "     termtype_desc  STATUS_YEAR  STATUS BUSINESS_UNIT  recordyear_key  \\\n",
       "8   Not Applicable         2014  ACTIVE    HEADOFFICE            2014   \n",
       "18  Not Applicable         2014  ACTIVE    HEADOFFICE            2014   \n",
       "28  Not Applicable         2014  ACTIVE    HEADOFFICE            2014   \n",
       "38  Not Applicable         2014  ACTIVE    HEADOFFICE            2014   \n",
       "48  Not Applicable         2014  ACTIVE    HEADOFFICE            2014   \n",
       "\n",
       "   Working or Not  \n",
       "8         Working  \n",
       "18        Working  \n",
       "28        Working  \n",
       "38        Working  \n",
       "48        Working  "
      ]
     },
     "execution_count": 135,
     "metadata": {},
     "output_type": "execute_result"
    }
   ],
   "source": [
    "latest_data.head()"
   ]
  },
  {
   "cell_type": "markdown",
   "metadata": {},
   "source": [
    "Calculate age of retirement \n",
    "1. get retired people's dataset\n",
    "2. find the age distribution/mean/max/min"
   ]
  },
  {
   "cell_type": "code",
   "execution_count": 136,
   "metadata": {},
   "outputs": [
    {
     "data": {
      "text/html": [
       "<div>\n",
       "<style scoped>\n",
       "    .dataframe tbody tr th:only-of-type {\n",
       "        vertical-align: middle;\n",
       "    }\n",
       "\n",
       "    .dataframe tbody tr th {\n",
       "        vertical-align: top;\n",
       "    }\n",
       "\n",
       "    .dataframe thead th {\n",
       "        text-align: right;\n",
       "    }\n",
       "</style>\n",
       "<table border=\"1\" class=\"dataframe\">\n",
       "  <thead>\n",
       "    <tr style=\"text-align: right;\">\n",
       "      <th></th>\n",
       "      <th>EmployeeID</th>\n",
       "      <th>recorddate_key</th>\n",
       "      <th>birthdate_key</th>\n",
       "      <th>orighiredate_key</th>\n",
       "      <th>terminationdate_key</th>\n",
       "      <th>age</th>\n",
       "      <th>length_of_service</th>\n",
       "      <th>city_name</th>\n",
       "      <th>department_name</th>\n",
       "      <th>job_title</th>\n",
       "      <th>store_name</th>\n",
       "      <th>gender_short</th>\n",
       "      <th>gender_full</th>\n",
       "      <th>termreason_desc</th>\n",
       "      <th>termtype_desc</th>\n",
       "      <th>STATUS_YEAR</th>\n",
       "      <th>STATUS</th>\n",
       "      <th>BUSINESS_UNIT</th>\n",
       "      <th>recordyear_key</th>\n",
       "      <th>Working or Not</th>\n",
       "    </tr>\n",
       "  </thead>\n",
       "  <tbody>\n",
       "    <tr>\n",
       "      <th>48168</th>\n",
       "      <td>1338</td>\n",
       "      <td>2009-02-01</td>\n",
       "      <td>1949-02-16</td>\n",
       "      <td>1989-09-20</td>\n",
       "      <td>2009-02-16</td>\n",
       "      <td>60</td>\n",
       "      <td>19</td>\n",
       "      <td>Vancouver</td>\n",
       "      <td>Training</td>\n",
       "      <td>Director, Training</td>\n",
       "      <td>35</td>\n",
       "      <td>M</td>\n",
       "      <td>Male</td>\n",
       "      <td>Retirement</td>\n",
       "      <td>Voluntary</td>\n",
       "      <td>2009</td>\n",
       "      <td>TERMINATED</td>\n",
       "      <td>HEADOFFICE</td>\n",
       "      <td>2009</td>\n",
       "      <td>Not Working</td>\n",
       "    </tr>\n",
       "    <tr>\n",
       "      <th>48169</th>\n",
       "      <td>1339</td>\n",
       "      <td>2014-02-01</td>\n",
       "      <td>1949-02-19</td>\n",
       "      <td>1989-09-22</td>\n",
       "      <td>2014-02-19</td>\n",
       "      <td>65</td>\n",
       "      <td>24</td>\n",
       "      <td>Nelson</td>\n",
       "      <td>Store Management</td>\n",
       "      <td>Store Manager</td>\n",
       "      <td>19</td>\n",
       "      <td>F</td>\n",
       "      <td>Female</td>\n",
       "      <td>Retirement</td>\n",
       "      <td>Voluntary</td>\n",
       "      <td>2014</td>\n",
       "      <td>TERMINATED</td>\n",
       "      <td>STORES</td>\n",
       "      <td>2014</td>\n",
       "      <td>Not Working</td>\n",
       "    </tr>\n",
       "    <tr>\n",
       "      <th>48170</th>\n",
       "      <td>1340</td>\n",
       "      <td>2009-02-01</td>\n",
       "      <td>1949-02-19</td>\n",
       "      <td>1989-09-22</td>\n",
       "      <td>2009-02-19</td>\n",
       "      <td>60</td>\n",
       "      <td>19</td>\n",
       "      <td>Kelowna</td>\n",
       "      <td>Store Management</td>\n",
       "      <td>Store Manager</td>\n",
       "      <td>16</td>\n",
       "      <td>M</td>\n",
       "      <td>Male</td>\n",
       "      <td>Retirement</td>\n",
       "      <td>Voluntary</td>\n",
       "      <td>2009</td>\n",
       "      <td>TERMINATED</td>\n",
       "      <td>STORES</td>\n",
       "      <td>2009</td>\n",
       "      <td>Not Working</td>\n",
       "    </tr>\n",
       "    <tr>\n",
       "      <th>48171</th>\n",
       "      <td>1341</td>\n",
       "      <td>2009-02-01</td>\n",
       "      <td>1949-02-21</td>\n",
       "      <td>1989-09-23</td>\n",
       "      <td>2009-02-21</td>\n",
       "      <td>60</td>\n",
       "      <td>19</td>\n",
       "      <td>Vancouver</td>\n",
       "      <td>Labor Relations</td>\n",
       "      <td>Director, Labor Relations</td>\n",
       "      <td>35</td>\n",
       "      <td>M</td>\n",
       "      <td>Male</td>\n",
       "      <td>Retirement</td>\n",
       "      <td>Voluntary</td>\n",
       "      <td>2009</td>\n",
       "      <td>TERMINATED</td>\n",
       "      <td>HEADOFFICE</td>\n",
       "      <td>2009</td>\n",
       "      <td>Not Working</td>\n",
       "    </tr>\n",
       "    <tr>\n",
       "      <th>48172</th>\n",
       "      <td>1343</td>\n",
       "      <td>2014-02-01</td>\n",
       "      <td>1949-02-24</td>\n",
       "      <td>1989-09-25</td>\n",
       "      <td>2014-02-24</td>\n",
       "      <td>65</td>\n",
       "      <td>24</td>\n",
       "      <td>Victoria</td>\n",
       "      <td>Store Management</td>\n",
       "      <td>Store Manager</td>\n",
       "      <td>37</td>\n",
       "      <td>F</td>\n",
       "      <td>Female</td>\n",
       "      <td>Retirement</td>\n",
       "      <td>Voluntary</td>\n",
       "      <td>2014</td>\n",
       "      <td>TERMINATED</td>\n",
       "      <td>STORES</td>\n",
       "      <td>2014</td>\n",
       "      <td>Not Working</td>\n",
       "    </tr>\n",
       "    <tr>\n",
       "      <th>...</th>\n",
       "      <td>...</td>\n",
       "      <td>...</td>\n",
       "      <td>...</td>\n",
       "      <td>...</td>\n",
       "      <td>...</td>\n",
       "      <td>...</td>\n",
       "      <td>...</td>\n",
       "      <td>...</td>\n",
       "      <td>...</td>\n",
       "      <td>...</td>\n",
       "      <td>...</td>\n",
       "      <td>...</td>\n",
       "      <td>...</td>\n",
       "      <td>...</td>\n",
       "      <td>...</td>\n",
       "      <td>...</td>\n",
       "      <td>...</td>\n",
       "      <td>...</td>\n",
       "      <td>...</td>\n",
       "      <td>...</td>\n",
       "    </tr>\n",
       "    <tr>\n",
       "      <th>49188</th>\n",
       "      <td>5098</td>\n",
       "      <td>2008-12-01</td>\n",
       "      <td>1948-12-20</td>\n",
       "      <td>2000-06-26</td>\n",
       "      <td>2008-12-20</td>\n",
       "      <td>60</td>\n",
       "      <td>8</td>\n",
       "      <td>West Vancouver</td>\n",
       "      <td>Produce</td>\n",
       "      <td>Produce Clerk</td>\n",
       "      <td>38</td>\n",
       "      <td>M</td>\n",
       "      <td>Male</td>\n",
       "      <td>Retirement</td>\n",
       "      <td>Voluntary</td>\n",
       "      <td>2008</td>\n",
       "      <td>TERMINATED</td>\n",
       "      <td>STORES</td>\n",
       "      <td>2008</td>\n",
       "      <td>Not Working</td>\n",
       "    </tr>\n",
       "    <tr>\n",
       "      <th>49189</th>\n",
       "      <td>5099</td>\n",
       "      <td>2008-12-01</td>\n",
       "      <td>1948-12-21</td>\n",
       "      <td>2000-06-27</td>\n",
       "      <td>2008-12-21</td>\n",
       "      <td>60</td>\n",
       "      <td>8</td>\n",
       "      <td>Victoria</td>\n",
       "      <td>Produce</td>\n",
       "      <td>Produce Clerk</td>\n",
       "      <td>37</td>\n",
       "      <td>M</td>\n",
       "      <td>Male</td>\n",
       "      <td>Retirement</td>\n",
       "      <td>Voluntary</td>\n",
       "      <td>2008</td>\n",
       "      <td>TERMINATED</td>\n",
       "      <td>STORES</td>\n",
       "      <td>2008</td>\n",
       "      <td>Not Working</td>\n",
       "    </tr>\n",
       "    <tr>\n",
       "      <th>49190</th>\n",
       "      <td>5104</td>\n",
       "      <td>2008-12-01</td>\n",
       "      <td>1948-12-23</td>\n",
       "      <td>2000-06-29</td>\n",
       "      <td>2008-12-23</td>\n",
       "      <td>60</td>\n",
       "      <td>8</td>\n",
       "      <td>New Westminster</td>\n",
       "      <td>Produce</td>\n",
       "      <td>Produce Clerk</td>\n",
       "      <td>21</td>\n",
       "      <td>M</td>\n",
       "      <td>Male</td>\n",
       "      <td>Retirement</td>\n",
       "      <td>Voluntary</td>\n",
       "      <td>2008</td>\n",
       "      <td>TERMINATED</td>\n",
       "      <td>STORES</td>\n",
       "      <td>2008</td>\n",
       "      <td>Not Working</td>\n",
       "    </tr>\n",
       "    <tr>\n",
       "      <th>49191</th>\n",
       "      <td>5108</td>\n",
       "      <td>2013-12-01</td>\n",
       "      <td>1948-12-25</td>\n",
       "      <td>2000-07-01</td>\n",
       "      <td>2013-12-25</td>\n",
       "      <td>65</td>\n",
       "      <td>13</td>\n",
       "      <td>Fort St John</td>\n",
       "      <td>Bakery</td>\n",
       "      <td>Baker</td>\n",
       "      <td>12</td>\n",
       "      <td>F</td>\n",
       "      <td>Female</td>\n",
       "      <td>Retirement</td>\n",
       "      <td>Voluntary</td>\n",
       "      <td>2013</td>\n",
       "      <td>TERMINATED</td>\n",
       "      <td>STORES</td>\n",
       "      <td>2013</td>\n",
       "      <td>Not Working</td>\n",
       "    </tr>\n",
       "    <tr>\n",
       "      <th>49193</th>\n",
       "      <td>5112</td>\n",
       "      <td>2008-12-01</td>\n",
       "      <td>1948-12-30</td>\n",
       "      <td>2000-07-06</td>\n",
       "      <td>2008-12-30</td>\n",
       "      <td>60</td>\n",
       "      <td>8</td>\n",
       "      <td>Vancouver</td>\n",
       "      <td>Meats</td>\n",
       "      <td>Meat Cutter</td>\n",
       "      <td>35</td>\n",
       "      <td>M</td>\n",
       "      <td>Male</td>\n",
       "      <td>Retirement</td>\n",
       "      <td>Voluntary</td>\n",
       "      <td>2008</td>\n",
       "      <td>TERMINATED</td>\n",
       "      <td>STORES</td>\n",
       "      <td>2008</td>\n",
       "      <td>Not Working</td>\n",
       "    </tr>\n",
       "  </tbody>\n",
       "</table>\n",
       "<p>885 rows × 20 columns</p>\n",
       "</div>"
      ],
      "text/plain": [
       "       EmployeeID recorddate_key birthdate_key orighiredate_key  \\\n",
       "48168        1338     2009-02-01    1949-02-16       1989-09-20   \n",
       "48169        1339     2014-02-01    1949-02-19       1989-09-22   \n",
       "48170        1340     2009-02-01    1949-02-19       1989-09-22   \n",
       "48171        1341     2009-02-01    1949-02-21       1989-09-23   \n",
       "48172        1343     2014-02-01    1949-02-24       1989-09-25   \n",
       "...           ...            ...           ...              ...   \n",
       "49188        5098     2008-12-01    1948-12-20       2000-06-26   \n",
       "49189        5099     2008-12-01    1948-12-21       2000-06-27   \n",
       "49190        5104     2008-12-01    1948-12-23       2000-06-29   \n",
       "49191        5108     2013-12-01    1948-12-25       2000-07-01   \n",
       "49193        5112     2008-12-01    1948-12-30       2000-07-06   \n",
       "\n",
       "      terminationdate_key  age  length_of_service        city_name  \\\n",
       "48168          2009-02-16   60                 19        Vancouver   \n",
       "48169          2014-02-19   65                 24           Nelson   \n",
       "48170          2009-02-19   60                 19          Kelowna   \n",
       "48171          2009-02-21   60                 19        Vancouver   \n",
       "48172          2014-02-24   65                 24         Victoria   \n",
       "...                   ...  ...                ...              ...   \n",
       "49188          2008-12-20   60                  8   West Vancouver   \n",
       "49189          2008-12-21   60                  8         Victoria   \n",
       "49190          2008-12-23   60                  8  New Westminster   \n",
       "49191          2013-12-25   65                 13     Fort St John   \n",
       "49193          2008-12-30   60                  8        Vancouver   \n",
       "\n",
       "        department_name                  job_title  store_name gender_short  \\\n",
       "48168          Training         Director, Training          35            M   \n",
       "48169  Store Management              Store Manager          19            F   \n",
       "48170  Store Management              Store Manager          16            M   \n",
       "48171   Labor Relations  Director, Labor Relations          35            M   \n",
       "48172  Store Management              Store Manager          37            F   \n",
       "...                 ...                        ...         ...          ...   \n",
       "49188           Produce              Produce Clerk          38            M   \n",
       "49189           Produce              Produce Clerk          37            M   \n",
       "49190           Produce              Produce Clerk          21            M   \n",
       "49191            Bakery                      Baker          12            F   \n",
       "49193             Meats                Meat Cutter          35            M   \n",
       "\n",
       "      gender_full termreason_desc termtype_desc  STATUS_YEAR      STATUS  \\\n",
       "48168        Male      Retirement     Voluntary         2009  TERMINATED   \n",
       "48169      Female      Retirement     Voluntary         2014  TERMINATED   \n",
       "48170        Male      Retirement     Voluntary         2009  TERMINATED   \n",
       "48171        Male      Retirement     Voluntary         2009  TERMINATED   \n",
       "48172      Female      Retirement     Voluntary         2014  TERMINATED   \n",
       "...           ...             ...           ...          ...         ...   \n",
       "49188        Male      Retirement     Voluntary         2008  TERMINATED   \n",
       "49189        Male      Retirement     Voluntary         2008  TERMINATED   \n",
       "49190        Male      Retirement     Voluntary         2008  TERMINATED   \n",
       "49191      Female      Retirement     Voluntary         2013  TERMINATED   \n",
       "49193        Male      Retirement     Voluntary         2008  TERMINATED   \n",
       "\n",
       "      BUSINESS_UNIT  recordyear_key Working or Not  \n",
       "48168    HEADOFFICE            2009    Not Working  \n",
       "48169        STORES            2014    Not Working  \n",
       "48170        STORES            2009    Not Working  \n",
       "48171    HEADOFFICE            2009    Not Working  \n",
       "48172        STORES            2014    Not Working  \n",
       "...             ...             ...            ...  \n",
       "49188        STORES            2008    Not Working  \n",
       "49189        STORES            2008    Not Working  \n",
       "49190        STORES            2008    Not Working  \n",
       "49191        STORES            2013    Not Working  \n",
       "49193        STORES            2008    Not Working  \n",
       "\n",
       "[885 rows x 20 columns]"
      ]
     },
     "execution_count": 136,
     "metadata": {},
     "output_type": "execute_result"
    }
   ],
   "source": [
    "# retired = latest_data[latest_data['termreason_desc'] == 'Retired']\n",
    "data[data['termreason_desc'] == 'Retirement']"
   ]
  },
  {
   "cell_type": "code",
   "execution_count": 137,
   "metadata": {},
   "outputs": [
    {
     "data": {
      "text/html": [
       "<div>\n",
       "<style scoped>\n",
       "    .dataframe tbody tr th:only-of-type {\n",
       "        vertical-align: middle;\n",
       "    }\n",
       "\n",
       "    .dataframe tbody tr th {\n",
       "        vertical-align: top;\n",
       "    }\n",
       "\n",
       "    .dataframe thead th {\n",
       "        text-align: right;\n",
       "    }\n",
       "</style>\n",
       "<table border=\"1\" class=\"dataframe\">\n",
       "  <thead>\n",
       "    <tr style=\"text-align: right;\">\n",
       "      <th></th>\n",
       "      <th>EmployeeID</th>\n",
       "      <th>recorddate_key</th>\n",
       "      <th>birthdate_key</th>\n",
       "      <th>orighiredate_key</th>\n",
       "      <th>terminationdate_key</th>\n",
       "      <th>age</th>\n",
       "      <th>length_of_service</th>\n",
       "      <th>city_name</th>\n",
       "      <th>department_name</th>\n",
       "      <th>job_title</th>\n",
       "      <th>store_name</th>\n",
       "      <th>gender_short</th>\n",
       "      <th>gender_full</th>\n",
       "      <th>termreason_desc</th>\n",
       "      <th>termtype_desc</th>\n",
       "      <th>STATUS_YEAR</th>\n",
       "      <th>STATUS</th>\n",
       "      <th>BUSINESS_UNIT</th>\n",
       "      <th>recordyear_key</th>\n",
       "      <th>Working or Not</th>\n",
       "    </tr>\n",
       "  </thead>\n",
       "  <tbody>\n",
       "    <tr>\n",
       "      <th>8</th>\n",
       "      <td>1318</td>\n",
       "      <td>2014-12-31</td>\n",
       "      <td>1954-01-03</td>\n",
       "      <td>1989-08-28</td>\n",
       "      <td>NaT</td>\n",
       "      <td>60</td>\n",
       "      <td>25</td>\n",
       "      <td>Vancouver</td>\n",
       "      <td>Executive</td>\n",
       "      <td>CEO</td>\n",
       "      <td>35</td>\n",
       "      <td>M</td>\n",
       "      <td>Male</td>\n",
       "      <td>Not Applicable</td>\n",
       "      <td>Not Applicable</td>\n",
       "      <td>2014</td>\n",
       "      <td>ACTIVE</td>\n",
       "      <td>HEADOFFICE</td>\n",
       "      <td>2014</td>\n",
       "      <td>Working</td>\n",
       "    </tr>\n",
       "    <tr>\n",
       "      <th>18</th>\n",
       "      <td>1319</td>\n",
       "      <td>2014-12-31</td>\n",
       "      <td>1957-01-03</td>\n",
       "      <td>1989-08-28</td>\n",
       "      <td>NaT</td>\n",
       "      <td>57</td>\n",
       "      <td>25</td>\n",
       "      <td>Vancouver</td>\n",
       "      <td>Executive</td>\n",
       "      <td>VP Stores</td>\n",
       "      <td>35</td>\n",
       "      <td>F</td>\n",
       "      <td>Female</td>\n",
       "      <td>Not Applicable</td>\n",
       "      <td>Not Applicable</td>\n",
       "      <td>2014</td>\n",
       "      <td>ACTIVE</td>\n",
       "      <td>HEADOFFICE</td>\n",
       "      <td>2014</td>\n",
       "      <td>Working</td>\n",
       "    </tr>\n",
       "    <tr>\n",
       "      <th>28</th>\n",
       "      <td>1320</td>\n",
       "      <td>2014-12-31</td>\n",
       "      <td>1955-01-02</td>\n",
       "      <td>1989-08-28</td>\n",
       "      <td>NaT</td>\n",
       "      <td>59</td>\n",
       "      <td>25</td>\n",
       "      <td>Vancouver</td>\n",
       "      <td>Executive</td>\n",
       "      <td>Legal Counsel</td>\n",
       "      <td>35</td>\n",
       "      <td>F</td>\n",
       "      <td>Female</td>\n",
       "      <td>Not Applicable</td>\n",
       "      <td>Not Applicable</td>\n",
       "      <td>2014</td>\n",
       "      <td>ACTIVE</td>\n",
       "      <td>HEADOFFICE</td>\n",
       "      <td>2014</td>\n",
       "      <td>Working</td>\n",
       "    </tr>\n",
       "    <tr>\n",
       "      <th>38</th>\n",
       "      <td>1321</td>\n",
       "      <td>2014-12-31</td>\n",
       "      <td>1959-01-02</td>\n",
       "      <td>1989-08-28</td>\n",
       "      <td>NaT</td>\n",
       "      <td>55</td>\n",
       "      <td>25</td>\n",
       "      <td>Vancouver</td>\n",
       "      <td>Executive</td>\n",
       "      <td>VP Human Resources</td>\n",
       "      <td>35</td>\n",
       "      <td>M</td>\n",
       "      <td>Male</td>\n",
       "      <td>Not Applicable</td>\n",
       "      <td>Not Applicable</td>\n",
       "      <td>2014</td>\n",
       "      <td>ACTIVE</td>\n",
       "      <td>HEADOFFICE</td>\n",
       "      <td>2014</td>\n",
       "      <td>Working</td>\n",
       "    </tr>\n",
       "    <tr>\n",
       "      <th>48</th>\n",
       "      <td>1322</td>\n",
       "      <td>2014-12-31</td>\n",
       "      <td>1958-01-09</td>\n",
       "      <td>1989-08-31</td>\n",
       "      <td>NaT</td>\n",
       "      <td>56</td>\n",
       "      <td>25</td>\n",
       "      <td>Vancouver</td>\n",
       "      <td>Executive</td>\n",
       "      <td>VP Finance</td>\n",
       "      <td>35</td>\n",
       "      <td>M</td>\n",
       "      <td>Male</td>\n",
       "      <td>Not Applicable</td>\n",
       "      <td>Not Applicable</td>\n",
       "      <td>2014</td>\n",
       "      <td>ACTIVE</td>\n",
       "      <td>HEADOFFICE</td>\n",
       "      <td>2014</td>\n",
       "      <td>Working</td>\n",
       "    </tr>\n",
       "  </tbody>\n",
       "</table>\n",
       "</div>"
      ],
      "text/plain": [
       "    EmployeeID recorddate_key birthdate_key orighiredate_key  \\\n",
       "8         1318     2014-12-31    1954-01-03       1989-08-28   \n",
       "18        1319     2014-12-31    1957-01-03       1989-08-28   \n",
       "28        1320     2014-12-31    1955-01-02       1989-08-28   \n",
       "38        1321     2014-12-31    1959-01-02       1989-08-28   \n",
       "48        1322     2014-12-31    1958-01-09       1989-08-31   \n",
       "\n",
       "   terminationdate_key  age  length_of_service  city_name department_name  \\\n",
       "8                  NaT   60                 25  Vancouver       Executive   \n",
       "18                 NaT   57                 25  Vancouver       Executive   \n",
       "28                 NaT   59                 25  Vancouver       Executive   \n",
       "38                 NaT   55                 25  Vancouver       Executive   \n",
       "48                 NaT   56                 25  Vancouver       Executive   \n",
       "\n",
       "             job_title  store_name gender_short gender_full termreason_desc  \\\n",
       "8                  CEO          35            M        Male  Not Applicable   \n",
       "18           VP Stores          35            F      Female  Not Applicable   \n",
       "28       Legal Counsel          35            F      Female  Not Applicable   \n",
       "38  VP Human Resources          35            M        Male  Not Applicable   \n",
       "48          VP Finance          35            M        Male  Not Applicable   \n",
       "\n",
       "     termtype_desc  STATUS_YEAR  STATUS BUSINESS_UNIT  recordyear_key  \\\n",
       "8   Not Applicable         2014  ACTIVE    HEADOFFICE            2014   \n",
       "18  Not Applicable         2014  ACTIVE    HEADOFFICE            2014   \n",
       "28  Not Applicable         2014  ACTIVE    HEADOFFICE            2014   \n",
       "38  Not Applicable         2014  ACTIVE    HEADOFFICE            2014   \n",
       "48  Not Applicable         2014  ACTIVE    HEADOFFICE            2014   \n",
       "\n",
       "   Working or Not  \n",
       "8         Working  \n",
       "18        Working  \n",
       "28        Working  \n",
       "38        Working  \n",
       "48        Working  "
      ]
     },
     "execution_count": 137,
     "metadata": {},
     "output_type": "execute_result"
    }
   ],
   "source": [
    "latest_data.head()"
   ]
  },
  {
   "cell_type": "code",
   "execution_count": 138,
   "metadata": {},
   "outputs": [],
   "source": [
    "retired = latest_data[latest_data['termreason_desc'] == 'Retirement']"
   ]
  },
  {
   "cell_type": "code",
   "execution_count": 139,
   "metadata": {},
   "outputs": [
    {
     "data": {
      "text/plain": [
       "65"
      ]
     },
     "execution_count": 139,
     "metadata": {},
     "output_type": "execute_result"
    }
   ],
   "source": [
    "retired['age'].min()"
   ]
  },
  {
   "cell_type": "code",
   "execution_count": 140,
   "metadata": {},
   "outputs": [
    {
     "data": {
      "text/plain": [
       "65"
      ]
     },
     "execution_count": 140,
     "metadata": {},
     "output_type": "execute_result"
    }
   ],
   "source": [
    "retired['age'].max()"
   ]
  },
  {
   "cell_type": "code",
   "execution_count": 141,
   "metadata": {},
   "outputs": [
    {
     "data": {
      "text/plain": [
       "count    56.0\n",
       "mean     65.0\n",
       "std       0.0\n",
       "min      65.0\n",
       "25%      65.0\n",
       "50%      65.0\n",
       "75%      65.0\n",
       "max      65.0\n",
       "Name: age, dtype: float64"
      ]
     },
     "execution_count": 141,
     "metadata": {},
     "output_type": "execute_result"
    }
   ],
   "source": [
    "retired['age'].describe()"
   ]
  },
  {
   "cell_type": "code",
   "execution_count": 142,
   "metadata": {},
   "outputs": [],
   "source": [
    "# how many were not applicable \n",
    "not_applicable = latest_data[latest_data['termreason_desc'] == 'Not Applicable']"
   ]
  },
  {
   "cell_type": "code",
   "execution_count": 143,
   "metadata": {},
   "outputs": [
    {
     "data": {
      "text/plain": [
       "(4962, 20)"
      ]
     },
     "execution_count": 143,
     "metadata": {},
     "output_type": "execute_result"
    }
   ],
   "source": [
    "# not_applicable\n",
    "# not_applicable.dropna()\n",
    "not_applicable.shape"
   ]
  },
  {
   "cell_type": "code",
   "execution_count": 144,
   "metadata": {},
   "outputs": [
    {
     "data": {
      "text/plain": [
       "(163, 20)"
      ]
     },
     "execution_count": 144,
     "metadata": {},
     "output_type": "execute_result"
    }
   ],
   "source": [
    "# not applicable AND not working \n",
    "not_applicable.dropna().shape"
   ]
  },
  {
   "cell_type": "code",
   "execution_count": 145,
   "metadata": {},
   "outputs": [
    {
     "data": {
      "text/plain": [
       "count    5215.000000\n",
       "mean       12.378523\n",
       "std         6.925501\n",
       "min         1.000000\n",
       "25%         6.000000\n",
       "50%        12.000000\n",
       "75%        18.000000\n",
       "max        25.000000\n",
       "Name: length_of_service, dtype: float64"
      ]
     },
     "execution_count": 145,
     "metadata": {},
     "output_type": "execute_result"
    }
   ],
   "source": [
    "# usual length of service of people\n",
    "latest_data['length_of_service'].describe()"
   ]
  },
  {
   "cell_type": "code",
   "execution_count": 146,
   "metadata": {},
   "outputs": [],
   "source": [
    "current_employees = latest_data[latest_data['Working or Not'] == 'Working']\n",
    "ex_employees = latest_data[latest_data['Working or Not'] == 'Not Working']"
   ]
  },
  {
   "cell_type": "code",
   "execution_count": 147,
   "metadata": {},
   "outputs": [
    {
     "data": {
      "text/plain": [
       "(4799, 20)"
      ]
     },
     "execution_count": 147,
     "metadata": {},
     "output_type": "execute_result"
    }
   ],
   "source": [
    "current_employees.shape"
   ]
  },
  {
   "cell_type": "code",
   "execution_count": 151,
   "metadata": {},
   "outputs": [
    {
     "data": {
      "text/plain": [
       "(416, 20)"
      ]
     },
     "execution_count": 151,
     "metadata": {},
     "output_type": "execute_result"
    }
   ],
   "source": [
    "ex_employees.shape"
   ]
  },
  {
   "cell_type": "code",
   "execution_count": 153,
   "metadata": {},
   "outputs": [
    {
     "data": {
      "text/plain": [
       "count    4799.000000\n",
       "mean       12.291936\n",
       "std         6.686482\n",
       "min         1.000000\n",
       "25%         7.000000\n",
       "50%        12.000000\n",
       "75%        18.000000\n",
       "max        25.000000\n",
       "Name: length_of_service, dtype: float64"
      ]
     },
     "execution_count": 153,
     "metadata": {},
     "output_type": "execute_result"
    }
   ],
   "source": [
    "# current \n",
    "current_employees['length_of_service'].describe()"
   ]
  },
  {
   "cell_type": "code",
   "execution_count": 152,
   "metadata": {},
   "outputs": [
    {
     "data": {
      "text/plain": [
       "count    416.000000\n",
       "mean      13.377404\n",
       "std        9.198186\n",
       "min        1.000000\n",
       "25%        5.000000\n",
       "50%       13.000000\n",
       "75%       24.000000\n",
       "max       25.000000\n",
       "Name: length_of_service, dtype: float64"
      ]
     },
     "execution_count": 152,
     "metadata": {},
     "output_type": "execute_result"
    }
   ],
   "source": [
    "# ex \n",
    "ex_employees['length_of_service'].describe()"
   ]
  },
  {
   "cell_type": "markdown",
   "metadata": {},
   "source": [
    "5. What business units did they belong to?\n",
    "6. Gender wise resignation?\n",
    "7. Who is more length of service based on gender?\n",
    "8. Gender wise breakdown of department"
   ]
  },
  {
   "cell_type": "code",
   "execution_count": 159,
   "metadata": {},
   "outputs": [
    {
     "data": {
      "text/plain": [
       "BUSINESS_UNIT\n",
       "HEADOFFICE     0.229214\n",
       "STORES        99.770786\n",
       "Name: EmployeeID, dtype: float64"
      ]
     },
     "execution_count": 159,
     "metadata": {},
     "output_type": "execute_result"
    }
   ],
   "source": [
    "current_counts = current_employees.groupby('BUSINESS_UNIT')['EmployeeID'].count()\n",
    "current_counts / current_counts.sum() * 100"
   ]
  },
  {
   "cell_type": "code",
   "execution_count": 157,
   "metadata": {},
   "outputs": [
    {
     "data": {
      "text/plain": [
       "BUSINESS_UNIT\n",
       "HEADOFFICE     8.653846\n",
       "STORES        91.346154\n",
       "Name: EmployeeID, dtype: float64"
      ]
     },
     "execution_count": 157,
     "metadata": {},
     "output_type": "execute_result"
    }
   ],
   "source": [
    "ex_counts =ex_employees.groupby('BUSINESS_UNIT')['EmployeeID'].count()\n",
    "ex_counts/ex_counts.sum() *100"
   ]
  },
  {
   "cell_type": "markdown",
   "metadata": {},
   "source": [
    "### Do it Yourself \n",
    "HYPOTHESIS: Are head office employees more likely to resign that store employees?\n",
    "Do a comparative analysis on the following variables:\n",
    "1. Age\n",
    "2. Length of service \n",
    "3. Gender\n",
    "4. City\n",
    "\n",
    "BONUS: Which store employees are more likely to resign?"
   ]
  },
  {
   "cell_type": "code",
   "execution_count": null,
   "metadata": {},
   "outputs": [],
   "source": [
    "# start code here"
   ]
  },
  {
   "cell_type": "code",
   "execution_count": null,
   "metadata": {},
   "outputs": [],
   "source": []
  },
  {
   "cell_type": "code",
   "execution_count": null,
   "metadata": {},
   "outputs": [],
   "source": [
    "# end code here "
   ]
  },
  {
   "cell_type": "markdown",
   "metadata": {},
   "source": [
    "6. Gender Wise Resginations"
   ]
  },
  {
   "cell_type": "code",
   "execution_count": 172,
   "metadata": {},
   "outputs": [
    {
     "data": {
      "text/plain": [
       "gender_full\n",
       "Female    281\n",
       "Male      135\n",
       "Name: EmployeeID, dtype: int64"
      ]
     },
     "execution_count": 172,
     "metadata": {},
     "output_type": "execute_result"
    }
   ],
   "source": [
    "ex_employees.groupby('gender_full')['EmployeeID'].count()\n",
    "# ex_counts/ex_counts.sum() *100"
   ]
  },
  {
   "cell_type": "code",
   "execution_count": 163,
   "metadata": {},
   "outputs": [
    {
     "data": {
      "text/plain": [
       "gender_full\n",
       "Female    49.239425\n",
       "Male      50.760575\n",
       "Name: EmployeeID, dtype: float64"
      ]
     },
     "execution_count": 163,
     "metadata": {},
     "output_type": "execute_result"
    }
   ],
   "source": [
    "current_counts = current_employees.groupby('gender_full')['EmployeeID'].count()\n",
    "current_counts / current_counts.sum() * 100"
   ]
  },
  {
   "cell_type": "markdown",
   "metadata": {},
   "source": [
    "7. Length of Service based on gender"
   ]
  },
  {
   "cell_type": "code",
   "execution_count": 175,
   "metadata": {},
   "outputs": [
    {
     "data": {
      "text/plain": [
       "gender_full\n",
       "Female    1\n",
       "Male      1\n",
       "Name: length_of_service, dtype: int64"
      ]
     },
     "execution_count": 175,
     "metadata": {},
     "output_type": "execute_result"
    }
   ],
   "source": [
    "ex_employees.groupby('gender_full')['length_of_service'].min()\n",
    "# ex_counts/ex_counts.sum() *100"
   ]
  },
  {
   "cell_type": "code",
   "execution_count": 176,
   "metadata": {},
   "outputs": [
    {
     "data": {
      "text/plain": [
       "gender_full\n",
       "Female    1\n",
       "Male      1\n",
       "Name: length_of_service, dtype: int64"
      ]
     },
     "execution_count": 176,
     "metadata": {},
     "output_type": "execute_result"
    }
   ],
   "source": [
    "current_employees.groupby('gender_full')['length_of_service'].min()\n",
    "# current_counts / current_counts.sum() * 100"
   ]
  },
  {
   "cell_type": "markdown",
   "metadata": {},
   "source": [
    "8. Department wise breakdown of employees"
   ]
  },
  {
   "cell_type": "code",
   "execution_count": 178,
   "metadata": {},
   "outputs": [],
   "source": [
    "# current_employees.groupby('gender_full')['department_name'].count()\n",
    "# get current male and current female \n",
    "\n",
    "current_males = current_employees[current_employees['gender_full'] == 'Male']\n",
    "current_females = current_employees[current_employees['gender_full'] == 'Female']"
   ]
  },
  {
   "cell_type": "code",
   "execution_count": 180,
   "metadata": {},
   "outputs": [
    {
     "data": {
      "text/plain": [
       "department_name\n",
       "Customer Service    468\n",
       "Dairy               447\n",
       "Meats               416\n",
       "Bakery              395\n",
       "Processed Foods     354\n",
       "Produce             349\n",
       "Executive             5\n",
       "Store Management      2\n",
       "Name: EmployeeID, dtype: int64"
      ]
     },
     "execution_count": 180,
     "metadata": {},
     "output_type": "execute_result"
    }
   ],
   "source": [
    "# department wise breakdown\n",
    "current_males.groupby('department_name')['EmployeeID'].count().sort_values(ascending=False)"
   ]
  },
  {
   "cell_type": "code",
   "execution_count": 181,
   "metadata": {},
   "outputs": [
    {
     "data": {
      "text/plain": [
       "department_name\n",
       "Customer Service    460\n",
       "Meats               459\n",
       "Dairy               395\n",
       "Bakery              391\n",
       "Produce             358\n",
       "Processed Foods     292\n",
       "Executive             5\n",
       "Store Management      2\n",
       "Recruitment           1\n",
       "Name: EmployeeID, dtype: int64"
      ]
     },
     "execution_count": 181,
     "metadata": {},
     "output_type": "execute_result"
    }
   ],
   "source": [
    "current_females.groupby('department_name')['EmployeeID'].count().sort_values(ascending=False)"
   ]
  },
  {
   "cell_type": "code",
   "execution_count": 182,
   "metadata": {},
   "outputs": [],
   "source": [
    "# get ex male and current female \n",
    "\n",
    "ex_males = ex_employees[ex_employees['gender_full'] == 'Male']\n",
    "ex_females = ex_employees[ex_employees['gender_full'] == 'Female']"
   ]
  },
  {
   "cell_type": "code",
   "execution_count": 183,
   "metadata": {},
   "outputs": [
    {
     "data": {
      "text/plain": [
       "department_name\n",
       "Customer Service    67\n",
       "Dairy               27\n",
       "Meats               12\n",
       "Processed Foods      9\n",
       "Produce              8\n",
       "Bakery               8\n",
       "Store Management     4\n",
       "Name: EmployeeID, dtype: int64"
      ]
     },
     "execution_count": 183,
     "metadata": {},
     "output_type": "execute_result"
    }
   ],
   "source": [
    "# department wise breakdown\n",
    "ex_males.groupby('department_name')['EmployeeID'].count().sort_values(ascending=False)"
   ]
  },
  {
   "cell_type": "code",
   "execution_count": 184,
   "metadata": {},
   "outputs": [
    {
     "data": {
      "text/plain": [
       "department_name\n",
       "Customer Service        69\n",
       "Meats                   52\n",
       "Processed Foods         33\n",
       "Dairy                   32\n",
       "Bakery                  23\n",
       "Produce                 21\n",
       "Store Management        15\n",
       "HR Technology            6\n",
       "Accounting               6\n",
       "Recruitment              6\n",
       "Employee Records         4\n",
       "Accounts Receiveable     3\n",
       "Accounts Payable         3\n",
       "Labor Relations          2\n",
       "Training                 2\n",
       "Investment               1\n",
       "Legal                    1\n",
       "Compensation             1\n",
       "Audit                    1\n",
       "Name: EmployeeID, dtype: int64"
      ]
     },
     "execution_count": 184,
     "metadata": {},
     "output_type": "execute_result"
    }
   ],
   "source": [
    "# department wise breakdown\n",
    "ex_females.groupby('department_name')['EmployeeID'].count().sort_values(ascending=False)"
   ]
  },
  {
   "cell_type": "markdown",
   "metadata": {},
   "source": [
    "9. City wise breakdown of employees AND with gender"
   ]
  },
  {
   "cell_type": "code",
   "execution_count": 191,
   "metadata": {},
   "outputs": [
    {
     "data": {
      "text/plain": [
       "city_name\n",
       "Vancouver           16.826923\n",
       "Fort Nelson          9.375000\n",
       "Victoria             7.451923\n",
       "New Westminister     7.451923\n",
       "Grand Forks          7.211538\n",
       "White Rock           5.769231\n",
       "Haney                5.048077\n",
       "Princeton            4.086538\n",
       "Dawson Creek         3.846154\n",
       "Kelowna              2.644231\n",
       "Nanaimo              2.644231\n",
       "New Westminster      2.644231\n",
       "Kamloops             2.163462\n",
       "Prince George        1.923077\n",
       "Cranbrook            1.923077\n",
       "Surrey               1.923077\n",
       "Terrace              1.923077\n",
       "Vernon               1.682692\n",
       "Pitt Meadows         1.442308\n",
       "Ocean Falls          1.442308\n",
       "Chilliwack           1.201923\n",
       "Fort St John         1.201923\n",
       "Valemount            1.201923\n",
       "Cortes Island        0.961538\n",
       "Williams Lake        0.721154\n",
       "Quesnel              0.721154\n",
       "Richmond             0.721154\n",
       "Squamish             0.721154\n",
       "Langley              0.480769\n",
       "Dease Lake           0.480769\n",
       "Burnaby              0.480769\n",
       "Aldergrove           0.480769\n",
       "Nelson               0.240385\n",
       "Trail                0.240385\n",
       "West Vancouver       0.240385\n",
       "Blue River           0.240385\n",
       "Abbotsford           0.240385\n",
       "Name: EmployeeID, dtype: float64"
      ]
     },
     "execution_count": 191,
     "metadata": {},
     "output_type": "execute_result"
    }
   ],
   "source": [
    "ex_counts = ex_employees.groupby('city_name')['EmployeeID'].count().sort_values(ascending=False)\n",
    "ex_counts/ex_counts.sum() *100"
   ]
  },
  {
   "cell_type": "code",
   "execution_count": 192,
   "metadata": {},
   "outputs": [
    {
     "data": {
      "text/plain": [
       "city_name\n",
       "Vancouver          22.838091\n",
       "Victoria            9.856220\n",
       "Nanaimo             8.314232\n",
       "New Westminster     6.938946\n",
       "Kelowna             5.126068\n",
       "Burnaby             4.667639\n",
       "Prince George       4.355074\n",
       "Kamloops            4.292561\n",
       "Cranbrook           3.875807\n",
       "Surrey              3.188164\n",
       "Richmond            3.083976\n",
       "Terrace             2.479683\n",
       "Chilliwack          2.396333\n",
       "Trail               1.979579\n",
       "Langley             1.896228\n",
       "Vernon              1.812878\n",
       "Squamish            1.646176\n",
       "Abbotsford          1.500313\n",
       "North Vancouver     1.437800\n",
       "Quesnel             1.312773\n",
       "West Vancouver      1.291936\n",
       "Williams Lake       1.291936\n",
       "Fort St John        1.271098\n",
       "Aldergrove          1.125234\n",
       "Port Coquitlam      1.083559\n",
       "Nelson              0.666806\n",
       "Bella Bella         0.270890\n",
       "Name: EmployeeID, dtype: float64"
      ]
     },
     "execution_count": 192,
     "metadata": {},
     "output_type": "execute_result"
    }
   ],
   "source": [
    "current_counts = current_employees.groupby('city_name')['EmployeeID'].count().sort_values(ascending=False)\n",
    "current_counts / current_counts.sum() * 100"
   ]
  },
  {
   "cell_type": "code",
   "execution_count": null,
   "metadata": {},
   "outputs": [],
   "source": []
  }
 ],
 "metadata": {
  "kernelspec": {
   "display_name": "Python 3",
   "language": "python",
   "name": "python3"
  },
  "language_info": {
   "codemirror_mode": {
    "name": "ipython",
    "version": 3
   },
   "file_extension": ".py",
   "mimetype": "text/x-python",
   "name": "python",
   "nbconvert_exporter": "python",
   "pygments_lexer": "ipython3",
   "version": "3.8.3"
  }
 },
 "nbformat": 4,
 "nbformat_minor": 4
}
